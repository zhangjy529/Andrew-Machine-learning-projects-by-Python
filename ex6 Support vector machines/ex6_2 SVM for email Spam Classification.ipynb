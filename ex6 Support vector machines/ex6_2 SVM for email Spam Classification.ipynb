{
 "cells": [
  {
   "cell_type": "markdown",
   "metadata": {},
   "source": [
    "## ex6_2 SVM for Spam Classification\n",
    "\n",
    "We will use SVM to build a spam classifier. We will train a classifier to classify whether a given email x is spam (y=1) or non-spam (y=0). We need to convert each email into a feature vector x. \n",
    "\n",
    "The dataset included is based on a subset of the SpamAssassin Public Corpus. For the purpose of the exercise, we will only use the email body (excluding the email header)."
   ]
  },
  {
   "cell_type": "code",
   "execution_count": 59,
   "metadata": {},
   "outputs": [],
   "source": [
    "import numpy as np\n",
    "import pandas as pd\n",
    "import matplotlib.pyplot as plt\n",
    "%matplotlib inline\n",
    "import math\n",
    "from scipy.optimize import minimize\n",
    "from scipy.io import loadmat\n",
    "from sklearn import svm"
   ]
  },
  {
   "cell_type": "markdown",
   "metadata": {},
   "source": [
    "### Part 1: Email Preprocessing\n",
    "\n",
    "To use an SVM to classify emails into Spam v.s. Non-Spam, you first need to convert each email into a vector of features. In this part, you will implement the preprocessing steps for each email. One method often employed is processing email is to normalize these values so that all URLs are treted the same, all numbers are treated the same. \n",
    "\n",
    "1. Lower-casing\n",
    "\n",
    "2. Stripping HTML: all HTML tags are removed from the emails.\n",
    "\n",
    "3. Normalizing URLs: all URLs are replaced with the tags 'httpaddr'\n",
    "\n",
    "4. Normalizing Email address: all email addresses are replaced with \"emailaddr\"\n",
    "\n",
    "5. Normalizing Numbers: all numbers are replaced with 'number'\n",
    "\n",
    "6. Normalizing dollars: all dollar sign are replaced with the word \"dollar\"\n",
    "\n",
    "7. Word stemming: Word are reduced to their form. For example, \"discount\", \"discounts\", 'discountede' are treated the same.\n",
    "\n",
    "8. Removal of non-words: Non-words and punctuations are removed."
   ]
  },
  {
   "cell_type": "code",
   "execution_count": 4,
   "metadata": {},
   "outputs": [],
   "source": [
    "def readFile(filename):\n",
    "    try:\n",
    "        with open(filename, 'r') as openFile:\n",
    "            file_contents = openFile.read()\n",
    "    except:\n",
    "        file_contents = ''\n",
    "        print('Unable to open {:s}'.format(filename))\n",
    "\n",
    "    return file_contents"
   ]
  },
  {
   "cell_type": "code",
   "execution_count": 34,
   "metadata": {},
   "outputs": [
    {
     "name": "stdout",
     "output_type": "stream",
     "text": [
      "<class 'str'>\n"
     ]
    },
    {
     "data": {
      "text/plain": [
       "\"> Anyone knows how much it costs to host a web portal ?\\n>\\nWell, it depends on how many visitors you're expecting.\\nThis can be anywhere from less than 10 bucks a month to a couple of $100. \\nYou should checkout http://www.rackspace.com/ or perhaps Amazon EC2 \\nif youre running something big..\\n\\nTo unsubscribe yourself from this mailing list, send an email to:\\ngroupname-unsubscribe@egroups.com\\n\\n\""
      ]
     },
     "execution_count": 34,
     "metadata": {},
     "output_type": "execute_result"
    }
   ],
   "source": [
    "email=readFile('emailSample1.txt');\n",
    "print(type(email))\n",
    "email"
   ]
  },
  {
   "cell_type": "markdown",
   "metadata": {},
   "source": [
    "Since the words that occur rarely in the training set are only in a few emails, they might cause the model to overfit the training set. The complete vocabulary list was selected by choosing words which occur at least 100 times in the spam corpus, resulting in a list of 1899 words. In practice, a vocabulary list with about 10000 to 50000 words is often used."
   ]
  },
  {
   "cell_type": "code",
   "execution_count": 35,
   "metadata": {},
   "outputs": [],
   "source": [
    "def getVocabList():\n",
    "    with open('vocab.txt', 'r') as vocabFile:\n",
    "        vocabList = {}\n",
    "        for line in vocabFile.readlines():\n",
    "            i, word = line.split()\n",
    "            vocabList[word] = int(i)\n",
    "\n",
    "    return vocabList"
   ]
  },
  {
   "cell_type": "code",
   "execution_count": 47,
   "metadata": {},
   "outputs": [
    {
     "data": {
      "text/plain": [
       "1899"
      ]
     },
     "execution_count": 47,
     "metadata": {},
     "output_type": "execute_result"
    }
   ],
   "source": [
    "# reads the fixed vocabulary list in vocab.txt and returns a cell array of the words in vocabList.\n",
    "vocabList=getVocabList()\n",
    "len(vocabList)"
   ]
  },
  {
   "cell_type": "code",
   "execution_count": 37,
   "metadata": {},
   "outputs": [],
   "source": [
    "# Stemmers remove morphological affixes from words, leaving only the word stem.\n",
    "def processEmail(email_contents):\n",
    "    import re\n",
    "    from nltk import PorterStemmer \n",
    "# Load Vocabulary\n",
    "    vocabList = getVocabList();\n",
    "# Init return value\n",
    "    word_indices = [];\n",
    "    modifiedEmail=[];\n",
    "# 1. Lower-casing\n",
    "    email_contents = email_contents.lower();\n",
    "\n",
    "# 2. Strip all HTML and replace with \"\"\n",
    "    email_contents = re.sub('<[^<>]+>', ' ', email_contents);\n",
    "    \n",
    "# 3. Normalize numbers: Look for one or more characters between 0-9 and replace with \"number\"\n",
    "    email_contents = re.sub('[0-9]+', 'number', email_contents);\n",
    "\n",
    "# 4. Normalize URL: Look for strings starting with http:// or https://\n",
    "    email_contents = re.sub('(http|https)://[^\\s]*', 'httpaddr', email_contents);\n",
    "                           \n",
    "# 5. Handle Email Addresses, Look for strings with @ in the middle\n",
    "    email_contents = re.sub('[^\\s]+@[^\\s]+', 'emailaddr', email_contents);\n",
    "\n",
    "# 6. Handle $ sign\n",
    "    email_contents = re.sub('[$]+', 'dollar', email_contents);\n",
    "\n",
    "# ========================== Tokenize Email ===========================\n",
    "    l = 0;\n",
    "    # Slightly different order from matlab version\n",
    "    # Split and also get rid of any punctuation\n",
    "    email_contents = re.split(r'[@$/#.-:&\\*\\+=\\[\\]?!(){},\\'\\'\\\">_<;%\\s\\n\\r\\t]+', email_contents)\n",
    "    for token in email_contents:\n",
    "        # Remove any non alphanumeric characters\n",
    "        token = re.sub('[^a-zA-Z0-9]', '', token)\n",
    "        # Stem the word \n",
    "        token = PorterStemmer().stem(token.strip())\n",
    "        # Skip the word if it is too short\n",
    "        if len(token) < 1:\n",
    "           continue\n",
    "  \n",
    "    # Note: vocabList{idx} returns a the word with index idx in the\n",
    "    #       vocabulary list. \n",
    "    # Note: You can use strcmp(str1, str2) to compare two strings (str1 and\n",
    "    #       str2). It will return 1 only if the two strings are equivalent.\n",
    "        idx = vocabList[token] if token in vocabList else 0\n",
    "\n",
    "        if idx > 0:\n",
    "            word_indices.append(idx)\n",
    "            modifiedEmail.append(token)\n",
    "\n",
    "        if l + len(token) + 1 > 78:\n",
    "            print(\"\")\n",
    "            l = 0\n",
    "        print('{:s}'.format(token)),\n",
    "        l = l + len(token) + 1\n",
    "\n",
    "    return word_indices, modifiedEmail"
   ]
  },
  {
   "cell_type": "code",
   "execution_count": 45,
   "metadata": {},
   "outputs": [
    {
     "name": "stdout",
     "output_type": "stream",
     "text": [
      "anyon\n",
      "know\n",
      "how\n",
      "much\n",
      "it\n",
      "cost\n",
      "to\n",
      "host\n",
      "a\n",
      "web\n",
      "portal\n",
      "well\n",
      "it\n",
      "depend\n",
      "on\n",
      "how\n",
      "mani\n",
      "\n",
      "visitor\n",
      "you\n",
      "re\n",
      "expect\n",
      "thi\n",
      "can\n",
      "be\n",
      "anywher\n",
      "from\n",
      "less\n",
      "than\n",
      "number\n",
      "buck\n",
      "a\n",
      "month\n",
      "\n",
      "to\n",
      "a\n",
      "coupl\n",
      "of\n",
      "dollarnumb\n",
      "you\n",
      "should\n",
      "checkout\n",
      "httpaddr\n",
      "or\n",
      "perhap\n",
      "amazon\n",
      "ecnumb\n",
      "\n",
      "if\n",
      "your\n",
      "run\n",
      "someth\n",
      "big\n",
      "to\n",
      "unsubscrib\n",
      "yourself\n",
      "from\n",
      "thi\n",
      "mail\n",
      "list\n",
      "send\n",
      "an\n",
      "\n",
      "email\n",
      "to\n",
      "emailaddr\n",
      "email: \n",
      "\n",
      "anyon know how much it cost to host web well it depend on how mani you re expect thi can be anywher from less than number month to coupl of dollarnumb you should httpaddr or perhap if your run someth big to unsubscrib yourself from thi mail list send an email to emailaddr\n",
      "Word Indices: \n",
      "\n",
      "[86, 916, 794, 1077, 883, 370, 1699, 790, 1822, 1831, 883, 431, 1171, 794, 1002, 1893, 1364, 592, 1676, 238, 162, 89, 688, 945, 1663, 1120, 1062, 1699, 375, 1162, 479, 1893, 1510, 799, 1182, 1237, 810, 1895, 1440, 1547, 181, 1699, 1758, 1896, 688, 1676, 992, 961, 1477, 71, 530, 1699, 531]\n"
     ]
    }
   ],
   "source": [
    "word_indices, modifiedEmail  = processEmail(email);\n",
    "print('email: \\n')\n",
    "print(\" \".join(modifiedEmail))\n",
    "print('Word Indices: \\n');\n",
    "print( word_indices);"
   ]
  },
  {
   "cell_type": "code",
   "execution_count": 44,
   "metadata": {},
   "outputs": [
    {
     "data": {
      "text/plain": [
       "'anyon know how much it cost to host web well it depend on how mani you re expect thi can be anywher from less than number month to coupl of dollarnumb you should httpaddr or perhap if your run someth big to unsubscrib yourself from thi mail list send an email to emailaddr'"
      ]
     },
     "execution_count": 44,
     "metadata": {},
     "output_type": "execute_result"
    }
   ],
   "source": [
    "' '.join(modifiedEmail)"
   ]
  },
  {
   "cell_type": "markdown",
   "metadata": {},
   "source": [
    "### Part 2. Feature Extraction\n",
    "\n",
    "We will convert each email into a vector of feature in R^n. n is the number of words in the vocabulary. the feature xi in {0,1} for an email corresponds to whether the i-th word occurs in the email. xi=1 if the i-th word is in the email. xi=0 if the ith word is not in the email. For a typical email, the feature will look like "
   ]
  },
  {
   "cell_type": "code",
   "execution_count": 51,
   "metadata": {},
   "outputs": [
    {
     "data": {
      "image/jpeg": "[encoded data removed]",
      "text/plain": [
       "<IPython.core.display.Image object>"
      ]
     },
     "execution_count": 51,
     "metadata": {
      "image/jpeg": {
       "height": 150,
       "width": 200
      }
     },
     "output_type": "execute_result"
    }
   ],
   "source": [
    "from IPython.display import Image\n",
    "Image(filename='../pic/emailFeature.jpg', width=200, height=150)"
   ]
  },
  {
   "cell_type": "code",
   "execution_count": 33,
   "metadata": {},
   "outputs": [
    {
     "data": {
      "text/plain": [
       "1899"
      ]
     },
     "execution_count": 33,
     "metadata": {},
     "output_type": "execute_result"
    }
   ],
   "source": [
    "vocabList = getVocabList();\n",
    "len(vocabList)"
   ]
  },
  {
   "cell_type": "code",
   "execution_count": 124,
   "metadata": {},
   "outputs": [],
   "source": [
    "def emailFeatures(word_indices):\n",
    "# Total number of words in the dictionary\n",
    "    n = 1899;\n",
    "    x = np.zeros((n, 1));\n",
    "    vocabList = getVocabList();\n",
    "    for i in word_indices:\n",
    "        if i in vocabList.values():\n",
    "            x[i,0]=1\n",
    "    return x"
   ]
  },
  {
   "cell_type": "code",
   "execution_count": 125,
   "metadata": {},
   "outputs": [
    {
     "data": {
      "text/plain": [
       "(1899, 1)"
      ]
     },
     "execution_count": 125,
     "metadata": {},
     "output_type": "execute_result"
    }
   ],
   "source": [
    "# Extract Features\n",
    "features = emailFeatures(word_indices);\n",
    "features.shape"
   ]
  },
  {
   "cell_type": "code",
   "execution_count": 126,
   "metadata": {},
   "outputs": [
    {
     "name": "stdout",
     "output_type": "stream",
     "text": [
      "Length of feature vector:  1899\n",
      "Number of non-zero entries:  0\n"
     ]
    }
   ],
   "source": [
    "print('Length of feature vector: ', len(features));\n",
    "print('Number of non-zero entries: ', np.sum(features > 0));"
   ]
  },
  {
   "cell_type": "markdown",
   "metadata": {},
   "source": [
    "###  Part 3: Train Linear SVM for Spam Classification \n",
    "In this section, you will train a linear classifier to determine if an email is Spam or Not-Spam. We load a preprocessed training examples of spam and nonspam email that will be used to train a SVM classifier. spamTrain.mat contains 4000 training examples of spam and non-spam email, while spamTest.mat contains 1000 test examples. Each original email was processed using the processEmail and emailFeatures function and converted into a vector xi R^1899. "
   ]
  },
  {
   "cell_type": "code",
   "execution_count": 127,
   "metadata": {},
   "outputs": [
    {
     "name": "stdout",
     "output_type": "stream",
     "text": [
      "dict_keys(['__header__', '__version__', '__globals__', 'X', 'y'])\n",
      "(4000, 1899)\n",
      "(4000, 1)\n"
     ]
    }
   ],
   "source": [
    "spamTrain=loadmat('spamTrain.mat')\n",
    "print(spamTrain.keys())\n",
    "X=spamTrain['X']\n",
    "y=spamTrain['y']\n",
    "print(X.shape)\n",
    "print(y.shape)"
   ]
  },
  {
   "cell_type": "code",
   "execution_count": 128,
   "metadata": {},
   "outputs": [
    {
     "name": "stdout",
     "output_type": "stream",
     "text": [
      "The percentage of spam training emails is: 0.32\n"
     ]
    }
   ],
   "source": [
    "print('The percentage of spam training emails is:', np.round(np.sum(y==1)/len(y),2))"
   ]
  },
  {
   "cell_type": "code",
   "execution_count": 129,
   "metadata": {},
   "outputs": [],
   "source": [
    "def svmTrain(X, y, C, kernelFunction, tol=1e-3, max_passes=-1, sigma=0.1):\n",
    "    y = y.flatten() \n",
    "    if kernelFunction == \"gaussian\":\n",
    "        clf = svm.SVC(C = C, kernel=\"precomputed\", tol=tol, max_iter=max_passes, verbose=0)\n",
    "        return clf.fit(gaussianKernelGramMatrix(X,X, sigma=sigma), y)   \n",
    "    else: \n",
    "        clf = svm.SVC(C = C, kernel=kernelFunction, tol=tol, max_iter=max_passes, verbose=0)#Linear kernel(no kernel)\n",
    "        return clf.fit(X, y)"
   ]
  },
  {
   "cell_type": "code",
   "execution_count": 130,
   "metadata": {},
   "outputs": [
    {
     "name": "stdout",
     "output_type": "stream",
     "text": [
      "Training Accuracy:  99.825\n"
     ]
    }
   ],
   "source": [
    "C = 0.1;\n",
    "model = svmTrain(X, y, C, 'linear');\n",
    "p_train = model.predict(X);\n",
    "print('Training Accuracy: ', np.mean(p_train.flatten() == y.flatten()) * 100);"
   ]
  },
  {
   "cell_type": "markdown",
   "metadata": {},
   "source": [
    "Load the test data set and check the classification accuracy"
   ]
  },
  {
   "cell_type": "code",
   "execution_count": 131,
   "metadata": {},
   "outputs": [
    {
     "name": "stdout",
     "output_type": "stream",
     "text": [
      "dict_keys(['__header__', '__version__', '__globals__', 'Xtest', 'ytest'])\n"
     ]
    },
    {
     "data": {
      "text/plain": [
       "1000"
      ]
     },
     "execution_count": 131,
     "metadata": {},
     "output_type": "execute_result"
    }
   ],
   "source": [
    "spamTest=loadmat('spamTest.mat')\n",
    "print(spamTest.keys())\n",
    "Xtest=spamTest['Xtest']\n",
    "ytest=spamTest['ytest']\n",
    "len(Xtest)"
   ]
  },
  {
   "cell_type": "code",
   "execution_count": 132,
   "metadata": {},
   "outputs": [
    {
     "name": "stdout",
     "output_type": "stream",
     "text": [
      "Test Accuracy:  98.9\n"
     ]
    }
   ],
   "source": [
    "p_test=model.predict(Xtest)\n",
    "print('Test Accuracy: ', np.mean(p_test.flatten()==ytest.flatten())*100)"
   ]
  },
  {
   "cell_type": "markdown",
   "metadata": {},
   "source": [
    "### Part 4: Top Predictors of Spam\n",
    "\n",
    "Since the model we are training is a linear SVM, we can inspect the weights learned by the model to understand better how it is determining whether an email is spam or not. The following code finds the words with the highest weights in the classifier. Informally, the classifier 'thinks' that these words are the most likely indicators of spam."
   ]
  },
  {
   "cell_type": "code",
   "execution_count": 87,
   "metadata": {},
   "outputs": [],
   "source": [
    "w = model.coef_[0]\n",
    "\n",
    "# reverse sorting by index\n",
    "indices = w.argsort()[::-1][:15]\n",
    "vocabList = sorted(getVocabList().keys())"
   ]
  },
  {
   "cell_type": "code",
   "execution_count": 88,
   "metadata": {},
   "outputs": [
    {
     "name": "stdout",
     "output_type": "stream",
     "text": [
      "Top predictors of spam: \n",
      "\n",
      " our (0.500614) \n",
      " click (0.465916) \n",
      " remov (0.422869) \n",
      " guarante (0.383622) \n",
      " visit (0.367710) \n",
      " basenumb (0.345064) \n",
      " dollar (0.323632) \n",
      " will (0.269724) \n",
      " price (0.267298) \n",
      " pleas (0.261169) \n",
      " most (0.257298) \n",
      " nbsp (0.253941) \n",
      " lo (0.253467) \n",
      " ga (0.248297) \n",
      " hour (0.246404) \n"
     ]
    }
   ],
   "source": [
    "print('Top predictors of spam: \\n');\n",
    "for idx in indices: \n",
    "    print( ' {:s} ({:f}) '.format( vocabList[idx], float(w[idx]) ) )"
   ]
  },
  {
   "cell_type": "markdown",
   "metadata": {},
   "source": [
    "### Part 5: Try Your Own Emails \n",
    "\n",
    "Now we have trained the spam classifier, we will use it to test spamSample1.txt, spamSample2.txt, emailSample1.txt and emailSample2.txt as examples. "
   ]
  },
  {
   "cell_type": "code",
   "execution_count": 134,
   "metadata": {},
   "outputs": [
    {
     "name": "stdout",
     "output_type": "stream",
     "text": [
      "dear\n",
      "all\n",
      "the\n",
      "homework\n",
      "is\n",
      "due\n",
      "thi\n",
      "tuesday\n",
      "pleas\n",
      "contact\n",
      "your\n",
      "ta\n",
      "for\n",
      "more\n",
      "\n",
      "inform\n",
      "thank\n",
      "you\n",
      "[1]\n"
     ]
    }
   ],
   "source": [
    "email=readFile('myemail.txt');\n",
    "word_indices  = processEmail(email);\n",
    "features = emailFeatures(word_indices);\n",
    "p1=model.predict(features.T)\n",
    "print(p1)"
   ]
  },
  {
   "cell_type": "code",
   "execution_count": null,
   "metadata": {},
   "outputs": [],
   "source": []
  }
 ],
 "metadata": {
  "kernelspec": {
   "display_name": "Python 3",
   "language": "python",
   "name": "python3"
  },
  "language_info": {
   "codemirror_mode": {
    "name": "ipython",
    "version": 3
   },
   "file_extension": ".py",
   "mimetype": "text/x-python",
   "name": "python",
   "nbconvert_exporter": "python",
   "pygments_lexer": "ipython3",
   "version": "3.6.5"
  }
 },
 "nbformat": 4,
 "nbformat_minor": 2
}
