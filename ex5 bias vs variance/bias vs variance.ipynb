{
 "cells": [
  {
   "cell_type": "markdown",
   "metadata": {},
   "source": [
    "## ex5. Regularized linear regression: vias versus variance\n",
    "\n",
    "In the first half of the exercise, you will implement regularized linear regression to predict the amount of water \n",
    "flowing out of a dam using the change of water level in a reservoir.\n",
    "\n",
    "#### Input data: ex5data1.mat"
   ]
  },
  {
   "cell_type": "code",
   "execution_count": 1,
   "metadata": {
    "collapsed": true
   },
   "outputs": [],
   "source": [
    "import numpy as np\n",
    "import pandas as pd\n",
    "import matplotlib.pyplot as plt\n",
    "%matplotlib inline"
   ]
  },
  {
   "cell_type": "markdown",
   "metadata": {},
   "source": [
    "### Part I : Regularized linear regression"
   ]
  },
  {
   "cell_type": "markdown",
   "metadata": {},
   "source": [
    "### 1. Load the water datasets"
   ]
  },
  {
   "cell_type": "code",
   "execution_count": 2,
   "metadata": {
    "collapsed": false
   },
   "outputs": [],
   "source": [
    "from scipy.io import loadmat  # this is the SciPy module that loads mat-files\n",
    "data=loadmat('ex5data1.mat') # loaded data is a dictionary"
   ]
  },
  {
   "cell_type": "code",
   "execution_count": 3,
   "metadata": {
    "collapsed": false
   },
   "outputs": [
    {
     "name": "stdout",
     "output_type": "stream",
     "text": [
      "<class 'dict'>\n",
      "\n",
      "dict_keys(['__header__', '__version__', '__globals__', 'X', 'y', 'Xtest', 'ytest', 'Xval', 'yval'])\n"
     ]
    }
   ],
   "source": [
    "# You will have X, y, Xval, yval, Xtest, ytest in your environment\n",
    "print(type(data))\n",
    "print('')\n",
    "print(data.keys())"
   ]
  },
  {
   "cell_type": "code",
   "execution_count": 4,
   "metadata": {
    "collapsed": false
   },
   "outputs": [],
   "source": [
    "# Create a dataframe water, water_test, water_train\n",
    "\n",
    "water=np.concatenate((data['X'], data['y']), axis=1)\n",
    "water=pd.DataFrame(water, columns=['X','y'])\n",
    "\n",
    "water_test=np.concatenate((data['Xtest'], data['ytest']), axis=1)\n",
    "water_test=pd.DataFrame(water_test, columns=['Xtest','ytest'])\n",
    "\n",
    "water_val=np.concatenate((data['Xval'], data['yval']), axis=1)\n",
    "water_val=pd.DataFrame(water_val, columns=['Xval','yval'])"
   ]
  },
  {
   "cell_type": "markdown",
   "metadata": {},
   "source": [
    "### 2. Visualization, plot the training data"
   ]
  },
  {
   "cell_type": "code",
   "execution_count": 5,
   "metadata": {
    "collapsed": false
   },
   "outputs": [
    {
     "data": {
      "image/png": "[encoded data removed]",
      "text/plain": [
       "<matplotlib.figure.Figure at 0xa5460f0>"
      ]
     },
     "metadata": {},
     "output_type": "display_data"
    }
   ],
   "source": [
    "X=water['X']\n",
    "y=water['y']\n",
    "m = len(X)\n",
    "plt.scatter(X, y, c='r', marker='x');\n",
    "plt.xlabel('Change in water level (x)');\n",
    "plt.ylabel('Water flowing out of the dam (y)');\n"
   ]
  },
  {
   "cell_type": "markdown",
   "metadata": {},
   "source": [
    "### 3: Regularized Linear Regression Cost"
   ]
  },
  {
   "cell_type": "code",
   "execution_count": 6,
   "metadata": {
    "collapsed": false
   },
   "outputs": [],
   "source": [
    "theta =np.ones((2,1))\n",
    "X=pd.concat((pd.DataFrame(np.ones((m,1))), X), axis=1) # add x0=1 for X"
   ]
  },
  {
   "cell_type": "code",
   "execution_count": 7,
   "metadata": {
    "collapsed": true
   },
   "outputs": [],
   "source": [
    "def linearRegCostFunction(X, y, theta, lamb):\n",
    "    \"\"\"\n",
    "    LINEARREGCOSTFUNCTION Compute cost and gradient for regularized linear regression with multiple variables\n",
    "    [J, grad] = LINEARREGCOSTFUNCTION(X, y, theta, lambda) computes the cost of using theta as the parameter \n",
    "    for linear regression to fit the data points in X and y. Returns the cost in J and the gradient in grad\n",
    "    lamb: penalty factor\n",
    "    \"\"\"\n",
    "    thetanew=theta.copy()\n",
    "    thetanew[0]=0\n",
    "    m,n = X.shape\n",
    "    J = 0;\n",
    "    grad = np.zeros(len(theta))\n",
    "    J=1/(2)*((np.array(X.dot(theta)[0])-np.array(y))**2).mean()+(thetanew*thetanew).sum()*lamb/2/m\n",
    "    grad=1/m*((np.array(X.dot(theta)[0])-np.array(y)).reshape(1,m).dot(X)).reshape(n,1)+lamb/m*thetanew\n",
    "    return J,grad"
   ]
  },
  {
   "cell_type": "code",
   "execution_count": 8,
   "metadata": {
    "collapsed": false
   },
   "outputs": [
    {
     "name": "stdout",
     "output_type": "stream",
     "text": [
      "Cost J returned by the function is: 303.993\n",
      "correct answer for cost is 303.993 \n",
      "\n",
      "grad returned by the function is:  [array([ -15.3 ,  598.25])]\n",
      "correct answer for grad is [-15.30, 598.25]\n"
     ]
    }
   ],
   "source": [
    "J,grad = linearRegCostFunction(X, y, theta, 1)\n",
    "m,n = X.shape\n",
    "print('Cost J returned by the function is:', np.round(J,3))\n",
    "print('correct answer for cost is 303.993 \\n')\n",
    "print('grad returned by the function is: ', [np.round(a,2) for a in grad.reshape(1,2)])\n",
    "print('correct answer for grad is [-15.30, 598.25]')"
   ]
  },
  {
   "cell_type": "markdown",
   "metadata": {},
   "source": [
    "###  4: Train Linear Regression \n",
    "\n",
    "Once you have implemented the cost and gradient correctly, the trainLinearReg function will use your cost function to train regularized linear regression.\n",
    "\n",
    "Write Up Note: The data is non-linear, so this will not give a great fit."
   ]
  },
  {
   "cell_type": "code",
   "execution_count": 9,
   "metadata": {
    "collapsed": true
   },
   "outputs": [],
   "source": [
    "def trainLinearReg(X, y, lamb):\n",
    "    \n",
    "    \"\"\"Use scipy.optimize to get theta from X,y and regularization theta\"\"\"\n",
    "    import numpy as np\n",
    "    import scipy.optimize as op\n",
    "\n",
    "    X=np.array(X)\n",
    "    y=np.array(y)\n",
    "\n",
    "    def Gradient(theta,x,y):\n",
    "        m , n = x.shape\n",
    "        theta = theta.reshape((n,1))\n",
    "        newtheta=theta.copy()\n",
    "        newtheta[0]=0\n",
    "        y = y.reshape((m,1))\n",
    "        grad = ((x.T).dot(x.dot(theta)-y))/m+(lamb*newtheta)/m;\n",
    "        return grad.flatten();\n",
    "    \n",
    "    def CostFunc(theta,x,y):\n",
    "        m,n = x.shape; \n",
    "        theta = theta.reshape((n,1))\n",
    "        newtheta=theta.copy()\n",
    "        newtheta[0]=0\n",
    "        J = 1/(2)*((np.array(X.dot(theta)[0])-np.array(y))**2).mean()+lamb*(newtheta*newtheta).sum()/2/m ;\n",
    "        return J;\n",
    "\n",
    "    m , n = X.shape;\n",
    "    initial_theta = np.ones(n);\n",
    "    Result = op.minimize(fun = CostFunc, x0 = initial_theta, args = (X, y), method = 'TNC',jac = Gradient);\n",
    "    optimal_theta = Result.x;     \n",
    "    return optimal_theta"
   ]
  },
  {
   "cell_type": "code",
   "execution_count": 10,
   "metadata": {
    "collapsed": false
   },
   "outputs": [],
   "source": [
    "optimal_theta=trainLinearReg(X, y, lamb=0)"
   ]
  },
  {
   "cell_type": "code",
   "execution_count": 11,
   "metadata": {
    "collapsed": false
   },
   "outputs": [],
   "source": [
    "y_pred=np.dot(X,optimal_theta)"
   ]
  },
  {
   "cell_type": "code",
   "execution_count": 12,
   "metadata": {
    "collapsed": false
   },
   "outputs": [
    {
     "data": {
      "text/plain": [
       "[<matplotlib.lines.Line2D at 0xa696748>]"
      ]
     },
     "execution_count": 12,
     "metadata": {},
     "output_type": "execute_result"
    },
    {
     "data": {
      "image/png": "[encoded data removed]",
      "text/plain": [
       "<matplotlib.figure.Figure at 0xa530978>"
      ]
     },
     "metadata": {},
     "output_type": "display_data"
    }
   ],
   "source": [
    "#  Plot fit over the data\n",
    "plt.scatter(X['X'], y, c='r', marker='x');\n",
    "plt.xlabel('Change in water level (x)');\n",
    "plt.ylabel('Water flowing out of the dam (y)');\n",
    "plt.plot(X['X'], y_pred)"
   ]
  },
  {
   "cell_type": "markdown",
   "metadata": {
    "collapsed": true
   },
   "source": [
    "### Part 2: Bias-Variance\n",
    "\n",
    "An important concept in machine learning is the bias-variance tradeoff. Models with high bias are not complex enough for the data and tend to underfit, while models with high variance overfit to the training data."
   ]
  },
  {
   "cell_type": "markdown",
   "metadata": {},
   "source": [
    "#### 1. Learning curves to debug learning algorithms\n",
    "\n",
    "A learning curves plots training and cross validation error as a function of the training set size. "
   ]
  },
  {
   "cell_type": "code",
   "execution_count": 13,
   "metadata": {
    "collapsed": true
   },
   "outputs": [],
   "source": [
    "mval=water_val.shape[0]\n",
    "Xval=pd.concat((pd.DataFrame(np.ones((mval,1))), water_val['Xval']), axis=1) # add x0=1 for X\n",
    "yval=water_val['yval']\n",
    "\n",
    "mtest=water_test.shape[0]\n",
    "Xtest=pd.concat((pd.DataFrame(np.ones((mtest,1))), water_test['Xtest']), axis=1) # add x0=1 for X\n",
    "ytest=water_test['ytest']"
   ]
  },
  {
   "cell_type": "code",
   "execution_count": 60,
   "metadata": {
    "collapsed": true
   },
   "outputs": [],
   "source": [
    "import numpy as np\n",
    "\n",
    "def linearRegCostFunction(X, y, theta, lambda_val, return_grad=False):\n",
    "    #LINEARREGCOSTFUNCTION Compute cost and gradient for regularized linear \n",
    "    #regression with multiple variables\n",
    "    #   [J, grad] = LINEARREGCOSTFUNCTION(X, y, theta, lambda_val) computes the \n",
    "    #   cost of using theta as the parameter for linear regression to fit the \n",
    "    #   data points in X and y. Returns the cost in J and the gradient in grad\n",
    "\n",
    "    # Initialize some useful values\n",
    "    m,n = X.shape # number of training examples\n",
    "\n",
    "    # force to be 2D vector\n",
    "    theta = np.reshape(theta, (n,1))\n",
    "\n",
    "    # You need to return the following variables correctly \n",
    "    J = 0\n",
    "    grad = np.zeros(theta.shape)\n",
    "\n",
    "    # ====================== YOUR CODE HERE ======================\n",
    "    # Instructions: Compute the cost and gradient of regularized linear \n",
    "    #               regression for a particular choice of theta.\n",
    "    #\n",
    "    #               You should set J to the cost and grad to the gradient.\n",
    "    #\n",
    "\n",
    "    # cost function\n",
    "    J = ( 1/(2*m)) * np.power( (np.dot(X, theta) - y.reshape(m,1)) , 2).sum() + ( float(lambda_val) / (2*m)) * np.power(theta[1:n],2).sum()\n",
    "\n",
    "    # regularized gradient\n",
    "    grad= (1/m) * np.dot( X.T, np.dot(X,theta) - y.reshape(m,1)) + ( float(lambda_val) / m )*theta\n",
    "\n",
    "    # unregularize first gradient\n",
    "    grad_no_regularization = (1./m) * np.dot( X.T, np.dot(X,theta) - y.reshape(m,1))\n",
    "    grad[0] = grad_no_regularization[0]\n",
    "\n",
    "    if return_grad == True:\n",
    "        return J, grad.flatten()\n",
    "    elif return_grad == False:\n",
    "        return J \n",
    "\n",
    "    # =========================================================================\n"
   ]
  },
  {
   "cell_type": "code",
   "execution_count": 61,
   "metadata": {
    "collapsed": false
   },
   "outputs": [],
   "source": [
    "import numpy as np\n",
    "from scipy.optimize import minimize\n",
    "\n",
    "def trainLinearReg(X, y, lambda_val):\n",
    "    #TRAINLINEARREG Trains linear regression given a dataset (X, y) and a\n",
    "    #regularization parameter lambda_val\n",
    "    #   [theta] = TRAINLINEARREG (X, y, lambda_val) trains linear regression using\n",
    "    #   the dataset (X, y) and regularization parameter lambda_val. Returns the\n",
    "    #   trained parameters theta.\n",
    "    #\n",
    "\n",
    "    # Initialize Theta\n",
    "    initial_theta = np.zeros((X.shape[1], 1))\n",
    "\n",
    "    # Short hand for cost function to be minimized\n",
    "    def costFunc(theta):\n",
    "        return linearRegCostFunction(X, y, theta, lambda_val, True)\n",
    "\n",
    "    # Now, costFunction is a function that takes in only one argument\n",
    "    maxiter = 200\n",
    "    results = minimize(costFunc, x0=initial_theta, options={'disp': True, 'maxiter':maxiter}, method=\"L-BFGS-B\", jac=True)\n",
    "\n",
    "    theta = results[\"x\"]\n",
    "\n",
    "    return theta"
   ]
  },
  {
   "cell_type": "code",
   "execution_count": 62,
   "metadata": {
    "collapsed": true
   },
   "outputs": [],
   "source": [
    "import numpy as np\n",
    "\n",
    "def learningCurve(X, y, Xval, yval, lambda_val):\n",
    "    #LEARNINGCURVE Generates the train and cross validation set errors needed \n",
    "    #to plot a learning curve\n",
    "    #   [error_train, error_val] = ...\n",
    "    #       LEARNINGCURVE(X, y, Xval, yval, lambda_val) returns the train and\n",
    "    #       cross validation set errors for a learning curve. In particular, \n",
    "    #       it returns two vectors of the same length - error_train and \n",
    "    #       error_val. Then, error_train(i) contains the training error for\n",
    "    #       i examples (and similarly for error_val(i)).\n",
    "    #\n",
    "    #   In this function, you will compute the train and test errors for\n",
    "    #   dataset sizes from 1 up to m. In practice, when working with larger\n",
    "    #   datasets, you might want to do this in larger intervals.\n",
    "    #\n",
    "\n",
    "    # Number of training examples\n",
    "    m = len(X)\n",
    "\n",
    "    # You need to return these values correctly\n",
    "    error_train = np.zeros((m, 1))\n",
    "    error_val   = np.zeros((m, 1))\n",
    "\n",
    "    for i in range(1,m+1):\n",
    "\n",
    "        # define training variables for this loop\n",
    "        X_train = X[:i]\n",
    "        y_train = y[:i]\n",
    "\n",
    "        # learn theta parameters with current X_train and y_train\n",
    "        theta = trainLinearReg(X_train, y_train, lambda_val)\n",
    "\n",
    "        # fill in error_train(i) and error_val(i)\n",
    "        #   note that for error computation, we set lambda_val = 0 in the last argument\n",
    "        error_train[i-1] = linearRegCostFunction(X_train, y_train, theta, 0)\n",
    "        error_val[i-1]   = linearRegCostFunction(Xval   , yval   , theta, 0)\n",
    "                \n",
    "    return error_train, error_val\n",
    "\n"
   ]
  },
  {
   "cell_type": "code",
   "execution_count": 63,
   "metadata": {
    "collapsed": false
   },
   "outputs": [
    {
     "name": "stderr",
     "output_type": "stream",
     "text": [
      "C:\\Users\\jzhang11\\AppData\\Local\\Continuum\\Anaconda3\\lib\\site-packages\\ipykernel\\__main__.py:28: FutureWarning: reshape is deprecated and will raise in a subsequent release. Please use .values.reshape(...) instead\n",
      "C:\\Users\\jzhang11\\AppData\\Local\\Continuum\\Anaconda3\\lib\\site-packages\\ipykernel\\__main__.py:31: FutureWarning: reshape is deprecated and will raise in a subsequent release. Please use .values.reshape(...) instead\n",
      "C:\\Users\\jzhang11\\AppData\\Local\\Continuum\\Anaconda3\\lib\\site-packages\\ipykernel\\__main__.py:34: FutureWarning: reshape is deprecated and will raise in a subsequent release. Please use .values.reshape(...) instead\n"
     ]
    }
   ],
   "source": [
    "lambda_val = 0\n",
    "error_train, error_val = learningCurve(X, y, Xval, yval, lambda_val)"
   ]
  },
  {
   "cell_type": "code",
   "execution_count": 64,
   "metadata": {
    "collapsed": false
   },
   "outputs": [
    {
     "data": {
      "text/plain": [
       "<matplotlib.legend.Legend at 0x66436d8>"
      ]
     },
     "execution_count": 64,
     "metadata": {},
     "output_type": "execute_result"
    },
    {
     "data": {
      "image/png": "[encoded data removed]",
      "text/plain": [
       "<matplotlib.figure.Figure at 0xbbdf128>"
      ]
     },
     "metadata": {},
     "output_type": "display_data"
    }
   ],
   "source": [
    "plt.plot(range(1,m+1), error_train, c='b', label='Train')\n",
    "plt.plot(range(1,m+1), error_val, c='g', label='Cross Validation')\n",
    "plt.xlabel('Number of training examples')\n",
    "plt.ylabel('Error')\n",
    "plt.title('Learning curve for linear regression')\n",
    "plt.legend(loc='upper right')"
   ]
  },
  {
   "cell_type": "markdown",
   "metadata": {},
   "source": [
    "### Part III: Feature Mapping for Polynomial Regression\n",
    "\n",
    "The problem for the simple linear regression is that it is too simple for the data and resulted in underfitting(high bias). We will use more features by adding the higher power of the existing features."
   ]
  },
  {
   "cell_type": "code",
   "execution_count": 65,
   "metadata": {
    "collapsed": true
   },
   "outputs": [],
   "source": [
    "def polyFeatures(X, p):\n",
    "    \"\"\"\n",
    "    POLYFEATURES Maps X (1D vector) into the p-th power\n",
    "    [X_poly] = POLYFEATURES(X, p) takes a data matrix X (size m x 1) and\n",
    "    maps each example into its polynomial features where\n",
    "    X_poly(i, :) = [X(i) X(i).^2 X(i).^3 ...  X(i).^p]\n",
    "    \"\"\"\n",
    "# You need to return the following variables correctly.\n",
    "    m=X.shape[0]\n",
    "    X_poly = np.zeros((m,p));\n",
    "# Instructions: Given a vector X, return a matrix X_poly where the p-th \n",
    "#               column of X contains the values of X to the p-th power.\n",
    "    for i in range(1,p+1):\n",
    "        X_poly[:,i-1]=np.power(X,i)\n",
    "    return X_poly"
   ]
  },
  {
   "cell_type": "markdown",
   "metadata": {},
   "source": [
    "Before learning the paramether theta, we will first normalize the feature of the training set and store the mu, sigma parameter separately."
   ]
  },
  {
   "cell_type": "code",
   "execution_count": 66,
   "metadata": {
    "collapsed": true
   },
   "outputs": [],
   "source": [
    "def featureNormalize(X):\n",
    "    \"\"\"\n",
    "    FEATURENORMALIZE Normalizes the features in X \n",
    "    FEATURENORMALIZE(X) returns a normalized version of X where\n",
    "    the mean value of each feature is 0 and the standard deviation\n",
    "    is 1. This is often a good preprocessing step to do when\n",
    "    working with learning algorithms.\n",
    "    \"\"\"\n",
    "    mu = np.mean(X, axis=0)\n",
    "    sigma=np.std(X, axis=0)\n",
    "    X_norm=(X-mu)/sigma\n",
    "    return X_norm, mu, sigma"
   ]
  },
  {
   "cell_type": "code",
   "execution_count": 67,
   "metadata": {
    "collapsed": false
   },
   "outputs": [],
   "source": [
    "p=8\n",
    "X_poly=polyFeatures(X['X'], p)\n",
    "X_poly, mu, sigma = featureNormalize(X_poly);  # Normalize\n",
    "X_poly =np.column_stack((np.ones((m,1)), X_poly)) # Add Ones"
   ]
  },
  {
   "cell_type": "code",
   "execution_count": 68,
   "metadata": {
    "collapsed": false
   },
   "outputs": [],
   "source": [
    "# Map X_poly_test and normalize (using mu and sigma from the train data)\n",
    "X_poly_test = polyFeatures(Xtest['Xtest'], p);\n",
    "X_poly_test = (X_poly_test-mu.reshape(1,len(mu)))/sigma.reshape(1,len(mu))\n",
    "X_poly_test = np.column_stack((np.ones((X_poly_test.shape[0],1)), X_poly_test))        # Add Ones\n",
    "\n",
    "# Map X_poly_val and normalize (using mu and sigma)\n",
    "X_poly_val = polyFeatures(Xval['Xval'], p);\n",
    "X_poly_val = (X_poly_val-mu.reshape(1,len(mu)))/sigma.reshape(1, len(mu))\n",
    "X_poly_val = np.column_stack((np.ones((X_poly_val.shape[0],1)), X_poly_val))        # Add Ones"
   ]
  },
  {
   "cell_type": "markdown",
   "metadata": {},
   "source": [
    "### Part 4: Learning Curve for Polynomial Regression\n",
    "\n",
    "Now, you will get to experiment with polynomial regression with multiple values of lambda. The code below runs polynomial regression with lambda = 0. You should try running the code with different values of\n",
    "lambda to see how the fit and learning curve change."
   ]
  },
  {
   "cell_type": "code",
   "execution_count": 69,
   "metadata": {
    "collapsed": false
   },
   "outputs": [
    {
     "name": "stderr",
     "output_type": "stream",
     "text": [
      "C:\\Users\\jzhang11\\AppData\\Local\\Continuum\\Anaconda3\\lib\\site-packages\\ipykernel\\__main__.py:28: FutureWarning: reshape is deprecated and will raise in a subsequent release. Please use .values.reshape(...) instead\n",
      "C:\\Users\\jzhang11\\AppData\\Local\\Continuum\\Anaconda3\\lib\\site-packages\\ipykernel\\__main__.py:31: FutureWarning: reshape is deprecated and will raise in a subsequent release. Please use .values.reshape(...) instead\n",
      "C:\\Users\\jzhang11\\AppData\\Local\\Continuum\\Anaconda3\\lib\\site-packages\\ipykernel\\__main__.py:34: FutureWarning: reshape is deprecated and will raise in a subsequent release. Please use .values.reshape(...) instead\n"
     ]
    },
    {
     "data": {
      "text/plain": [
       "(9,)"
      ]
     },
     "execution_count": 69,
     "metadata": {},
     "output_type": "execute_result"
    }
   ],
   "source": [
    "lamb = 100;\n",
    "theta = trainLinearReg(X_poly, y, lamb)\n",
    "theta.shape"
   ]
  },
  {
   "cell_type": "code",
   "execution_count": 70,
   "metadata": {
    "collapsed": false
   },
   "outputs": [],
   "source": [
    "def plotFit(min_x, max_x, mu, sigma, theta, p):\n",
    "    \"\"\"\n",
    "    PLOTFIT Plots a learned polynomial regression fit over an existing figure.\n",
    "    Also works with linear regression.\n",
    "    PLOTFIT(min_x, max_x, mu, sigma, theta, p) plots the learned polynomial\n",
    "    fit with power p and feature normalization (mu, sigma).\n",
    "    \"\"\"\n",
    "# We plot a range slightly bigger than the min and max values to get\n",
    "# an idea of how the fit will vary outside the range of the data points\n",
    "    x =np.arange(min_x-15, max_x+25,step=0.05 )\n",
    "\n",
    "# Map the X values \n",
    "    X_poly = polyFeatures(x, p);\n",
    "    X_poly = (X_poly-mu.reshape(1,p))/sigma.reshape(1,p)\n",
    "\n",
    "# Add ones\n",
    "    X_poly = np.column_stack((np.ones((X_poly.shape[0],1)), X_poly))\n",
    "    \n",
    "# Plot\n",
    "    plt.plot(x,np.dot( X_poly,theta))"
   ]
  },
  {
   "cell_type": "code",
   "execution_count": 71,
   "metadata": {
    "collapsed": false
   },
   "outputs": [
    {
     "data": {
      "image/png": "[encoded data removed]",
      "text/plain": [
       "<matplotlib.figure.Figure at 0x668c780>"
      ]
     },
     "metadata": {},
     "output_type": "display_data"
    }
   ],
   "source": [
    "# Plot training data and fit\n",
    "\n",
    "plt.scatter(X['X'], y, color='r');\n",
    "plotFit(min(X['X']), max(X['X']), mu, sigma, theta, p)\n",
    "\n",
    "plt.xlabel('Change in water level (x)');\n",
    "plt.ylabel('Water flowing out of the dam (y)');\n"
   ]
  },
  {
   "cell_type": "code",
   "execution_count": 72,
   "metadata": {
    "collapsed": false
   },
   "outputs": [
    {
     "name": "stderr",
     "output_type": "stream",
     "text": [
      "C:\\Users\\jzhang11\\AppData\\Local\\Continuum\\Anaconda3\\lib\\site-packages\\ipykernel\\__main__.py:28: FutureWarning: reshape is deprecated and will raise in a subsequent release. Please use .values.reshape(...) instead\n",
      "C:\\Users\\jzhang11\\AppData\\Local\\Continuum\\Anaconda3\\lib\\site-packages\\ipykernel\\__main__.py:31: FutureWarning: reshape is deprecated and will raise in a subsequent release. Please use .values.reshape(...) instead\n",
      "C:\\Users\\jzhang11\\AppData\\Local\\Continuum\\Anaconda3\\lib\\site-packages\\ipykernel\\__main__.py:34: FutureWarning: reshape is deprecated and will raise in a subsequent release. Please use .values.reshape(...) instead\n"
     ]
    }
   ],
   "source": [
    "error_train, error_val = learningCurve(X_poly, y, X_poly_val, yval, lamb);"
   ]
  },
  {
   "cell_type": "code",
   "execution_count": 73,
   "metadata": {
    "collapsed": false
   },
   "outputs": [
    {
     "data": {
      "text/plain": [
       "<matplotlib.legend.Legend at 0x677cc18>"
      ]
     },
     "execution_count": 73,
     "metadata": {},
     "output_type": "execute_result"
    },
    {
     "data": {
      "image/png": "[encoded data removed]",
      "text/plain": [
       "<matplotlib.figure.Figure at 0x66ab080>"
      ]
     },
     "metadata": {},
     "output_type": "display_data"
    }
   ],
   "source": [
    "    \n",
    "plt.plot(range(1,m+1), error_train, color='b', label='Train')\n",
    "plt.plot(range(1,m+1), error_val, color='g', label='Cross Validation')\n",
    "\n",
    "plt.title('Polynomial Regression Learning Curve (lambda={:f} )'.format(lamb));\n",
    "plt.xlabel('Number of training examples')\n",
    "plt.ylabel('Error')\n",
    "plt.ylim([0,100])\n",
    "plt.xlim([0, 13])\n",
    "plt.legend(loc='upper right')"
   ]
  },
  {
   "cell_type": "markdown",
   "metadata": {},
   "source": [
    "### Part 5: Validation for Selecting Lambda\n",
    "\n",
    "You will now implement validationCurve to test various values of lambda on a validation set. You will then use this to select the \"best\" lambda value."
   ]
  },
  {
   "cell_type": "code",
   "execution_count": 74,
   "metadata": {
    "collapsed": true
   },
   "outputs": [],
   "source": [
    "\n",
    "def validationCurve(X, y, Xval, yval):\n",
    "    \"\"\"\n",
    "    VALIDATIONCURVE Generate the train and validation errors needed to\n",
    "    plot a validation curve that we can use to select lambda\n",
    "    [lambda_vec, error_train, error_val] = ...\n",
    "    VALIDATIONCURVE(X, y, Xval, yval) returns the train and validation errors (in error_train, error_val)\n",
    "    for different values of lambda. You are given the training set (X,y) and validation set (Xval, yval).\n",
    "    \"\"\"\n",
    "\n",
    "\n",
    "# Selected values of lambda (you should not change this)\n",
    "    lambda_vec = [0, 0.001, 0.003, 0.01, 0.03, 0.1, 0.3, 1, 3, 10]\n",
    "\n",
    "# You need to return these variables correctly.\n",
    "    error_train = np.zeros((len(lambda_vec), 1));\n",
    "    error_val = np.zeros((len(lambda_vec), 1));\n",
    "\n",
    "# Note: You can loop over lambda_vec with the following:\n",
    "\n",
    "    for i in range(len(lambda_vec)):\n",
    "        lamb = lambda_vec[i]\n",
    "        theta=trainLinearReg(X, y, lamb)\n",
    "        error_train[i]=linearRegCostFunction(X, y, theta, lamb)\n",
    "        error_val[i]=linearRegCostFunction(Xval, yval, theta, lamb)\n",
    "    return lambda_vec, error_train, error_val"
   ]
  },
  {
   "cell_type": "code",
   "execution_count": 75,
   "metadata": {
    "collapsed": false
   },
   "outputs": [
    {
     "name": "stderr",
     "output_type": "stream",
     "text": [
      "C:\\Users\\jzhang11\\AppData\\Local\\Continuum\\Anaconda3\\lib\\site-packages\\ipykernel\\__main__.py:28: FutureWarning: reshape is deprecated and will raise in a subsequent release. Please use .values.reshape(...) instead\n",
      "C:\\Users\\jzhang11\\AppData\\Local\\Continuum\\Anaconda3\\lib\\site-packages\\ipykernel\\__main__.py:31: FutureWarning: reshape is deprecated and will raise in a subsequent release. Please use .values.reshape(...) instead\n",
      "C:\\Users\\jzhang11\\AppData\\Local\\Continuum\\Anaconda3\\lib\\site-packages\\ipykernel\\__main__.py:34: FutureWarning: reshape is deprecated and will raise in a subsequent release. Please use .values.reshape(...) instead\n"
     ]
    }
   ],
   "source": [
    "lambda_vec, error_train, error_val = validationCurve(X_poly, y, X_poly_val, yval);"
   ]
  },
  {
   "cell_type": "code",
   "execution_count": 30,
   "metadata": {
    "collapsed": false
   },
   "outputs": [
    {
     "data": {
      "text/plain": [
       "<matplotlib.legend.Legend at 0x6350710>"
      ]
     },
     "execution_count": 30,
     "metadata": {},
     "output_type": "execute_result"
    },
    {
     "data": {
      "image/png": "[encoded data removed]",
      "text/plain": [
       "<matplotlib.figure.Figure at 0xbb05860>"
      ]
     },
     "metadata": {},
     "output_type": "display_data"
    }
   ],
   "source": [
    "plt.plot(lambda_vec, error_train, label='Train')\n",
    "plt.plot(lambda_vec, error_val, label='Cross Validation')\n",
    "plt.xlabel('lambda');\n",
    "plt.ylabel('Error');\n",
    "#plt.ylim([0,20])\n",
    "#plt.xlim([0,10])\n",
    "plt.axis([0, 10, 0, 20])\n",
    "plt.legend(loc='upper right')"
   ]
  },
  {
   "cell_type": "markdown",
   "metadata": {
    "collapsed": true
   },
   "source": [
    "### Compute test set error\n",
    "\n",
    "To get a better indication of the model's performance in the real world, it is important to evaluate the final model on a test set that was not used in any part of the training (that is neither used to select lambda parameters nor to learn the model parameter theta."
   ]
  },
  {
   "cell_type": "code",
   "execution_count": 80,
   "metadata": {
    "collapsed": false
   },
   "outputs": [
    {
     "name": "stdout",
     "output_type": "stream",
     "text": [
      "the calculated test error is 73.8394314833\n",
      "the answer should be 3.8599\n"
     ]
    },
    {
     "name": "stderr",
     "output_type": "stream",
     "text": [
      "C:\\Users\\jzhang11\\AppData\\Local\\Continuum\\Anaconda3\\lib\\site-packages\\ipykernel\\__main__.py:28: FutureWarning: reshape is deprecated and will raise in a subsequent release. Please use .values.reshape(...) instead\n",
      "C:\\Users\\jzhang11\\AppData\\Local\\Continuum\\Anaconda3\\lib\\site-packages\\ipykernel\\__main__.py:31: FutureWarning: reshape is deprecated and will raise in a subsequent release. Please use .values.reshape(...) instead\n",
      "C:\\Users\\jzhang11\\AppData\\Local\\Continuum\\Anaconda3\\lib\\site-packages\\ipykernel\\__main__.py:34: FutureWarning: reshape is deprecated and will raise in a subsequent release. Please use .values.reshape(...) instead\n"
     ]
    }
   ],
   "source": [
    "# Test error for lambda=3\n",
    "error_test=linearRegCostFunction(X_poly_test, ytest, theta, 0.5)\n",
    "print('the calculated test error is', error_test)\n",
    "print('the answer should be 3.8599')"
   ]
  },
  {
   "cell_type": "code",
   "execution_count": null,
   "metadata": {
    "collapsed": true
   },
   "outputs": [],
   "source": []
  },
  {
   "cell_type": "code",
   "execution_count": null,
   "metadata": {
    "collapsed": true
   },
   "outputs": [],
   "source": []
  }
 ],
 "metadata": {
  "kernelspec": {
   "display_name": "Python 3",
   "language": "python",
   "name": "python3"
  },
  "language_info": {
   "codemirror_mode": {
    "name": "ipython",
    "version": 3
   },
   "file_extension": ".py",
   "mimetype": "text/x-python",
   "name": "python",
   "nbconvert_exporter": "python",
   "pygments_lexer": "ipython3",
   "version": "3.6.0"
  }
 },
 "nbformat": 4,
 "nbformat_minor": 2
}
