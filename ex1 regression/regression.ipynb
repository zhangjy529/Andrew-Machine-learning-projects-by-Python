{
 "cells": [
  {
   "cell_type": "markdown",
   "metadata": {},
   "source": [
    "The \f",
    "le ex1data1.txt contains the dataset for our linear regression prob-\n",
    "lem. The \f",
    "rst column is the population of a city and the second column is\n",
    "the pro\f",
    "t of a food truck in that city. A negative value for pro\f",
    "t indicates a\n",
    "loss."
   ]
  },
  {
   "cell_type": "code",
   "execution_count": 1,
   "metadata": {
    "collapsed": true
   },
   "outputs": [],
   "source": [
    "import numpy as np\n",
    "import pandas as pd\n",
    "import matplotlib.pyplot as plt\n",
    "%matplotlib inline"
   ]
  },
  {
   "cell_type": "markdown",
   "metadata": {},
   "source": [
    "### 1. Import the data"
   ]
  },
  {
   "cell_type": "code",
   "execution_count": 2,
   "metadata": {
    "collapsed": false
   },
   "outputs": [
    {
     "data": {
      "text/html": [
       "<div>\n",
       "<style>\n",
       "    .dataframe thead tr:only-child th {\n",
       "        text-align: right;\n",
       "    }\n",
       "\n",
       "    .dataframe thead th {\n",
       "        text-align: left;\n",
       "    }\n",
       "\n",
       "    .dataframe tbody tr th {\n",
       "        vertical-align: top;\n",
       "    }\n",
       "</style>\n",
       "<table border=\"1\" class=\"dataframe\">\n",
       "  <thead>\n",
       "    <tr style=\"text-align: right;\">\n",
       "      <th></th>\n",
       "      <th>pop</th>\n",
       "      <th>profit</th>\n",
       "    </tr>\n",
       "  </thead>\n",
       "  <tbody>\n",
       "    <tr>\n",
       "      <th>92</th>\n",
       "      <td>5.8707</td>\n",
       "      <td>7.20290</td>\n",
       "    </tr>\n",
       "    <tr>\n",
       "      <th>93</th>\n",
       "      <td>5.3054</td>\n",
       "      <td>1.98690</td>\n",
       "    </tr>\n",
       "    <tr>\n",
       "      <th>94</th>\n",
       "      <td>8.2934</td>\n",
       "      <td>0.14454</td>\n",
       "    </tr>\n",
       "    <tr>\n",
       "      <th>95</th>\n",
       "      <td>13.3940</td>\n",
       "      <td>9.05510</td>\n",
       "    </tr>\n",
       "    <tr>\n",
       "      <th>96</th>\n",
       "      <td>5.4369</td>\n",
       "      <td>0.61705</td>\n",
       "    </tr>\n",
       "  </tbody>\n",
       "</table>\n",
       "</div>"
      ],
      "text/plain": [
       "        pop   profit\n",
       "92   5.8707  7.20290\n",
       "93   5.3054  1.98690\n",
       "94   8.2934  0.14454\n",
       "95  13.3940  9.05510\n",
       "96   5.4369  0.61705"
      ]
     },
     "execution_count": 2,
     "metadata": {},
     "output_type": "execute_result"
    }
   ],
   "source": [
    "reg1=pd.read_csv('ex1data1.txt', names=['pop', 'profit'])\n",
    "reg1.head()\n",
    "reg1.tail()"
   ]
  },
  {
   "cell_type": "markdown",
   "metadata": {},
   "source": [
    "### 2. Plotting the data\n",
    "\n",
    "Before starting on any task, it is often useful to understand the data by\n",
    "visualizing it. For this dataset, you can use a scatter plot to visualize the\n",
    "data, since it has only two properties to plot (profit and population)."
   ]
  },
  {
   "cell_type": "code",
   "execution_count": 3,
   "metadata": {
    "collapsed": false
   },
   "outputs": [
    {
     "data": {
      "text/plain": [
       "<matplotlib.text.Text at 0x98345f8>"
      ]
     },
     "execution_count": 3,
     "metadata": {},
     "output_type": "execute_result"
    },
    {
     "data": {
      "image/png": "[encoded data removed]",
      "text/plain": [
       "<matplotlib.figure.Figure at 0x97b8240>"
      ]
     },
     "metadata": {},
     "output_type": "display_data"
    }
   ],
   "source": [
    "plt.scatter(reg1['pop'], reg1['profit'], c='red', marker='x')\n",
    "plt.xlabel('Population of City in 10,000s')\n",
    "plt.ylabel('Profit in $10,000s')"
   ]
  },
  {
   "cell_type": "markdown",
   "metadata": {},
   "source": [
    "### 3. Gradient descent\n"
   ]
  },
  {
   "cell_type": "code",
   "execution_count": 5,
   "metadata": {
    "collapsed": false
   },
   "outputs": [
    {
     "data": {
      "text/plain": [
       "97"
      ]
     },
     "execution_count": 5,
     "metadata": {},
     "output_type": "execute_result"
    }
   ],
   "source": [
    "m=reg1.shape[0]\n",
    "m"
   ]
  },
  {
   "cell_type": "code",
   "execution_count": 104,
   "metadata": {
    "collapsed": false
   },
   "outputs": [],
   "source": [
    "X=pd.concat((pd.DataFrame(np.ones((m,1))), reg1['pop']), axis=1)\n",
    "X\n",
    "y=reg1['profit']\n",
    "theta=np.zeros((2,1))\n",
    "theta\n",
    "iterations=1500\n",
    "alpha=0.01  #learning rate"
   ]
  },
  {
   "cell_type": "code",
   "execution_count": 105,
   "metadata": {
    "collapsed": false
   },
   "outputs": [
    {
     "data": {
      "text/plain": [
       "array([ 0.])"
      ]
     },
     "execution_count": 105,
     "metadata": {},
     "output_type": "execute_result"
    }
   ],
   "source": [
    "theta[0]"
   ]
  },
  {
   "cell_type": "markdown",
   "metadata": {},
   "source": [
    "#### 2.1 Computing the cost J(theta)"
   ]
  },
  {
   "cell_type": "code",
   "execution_count": 106,
   "metadata": {
    "collapsed": false
   },
   "outputs": [],
   "source": [
    "\n",
    "def computeCost(X, y, theta):\n",
    "    \n",
    "    \"\"\"\n",
    "    Compute cost function J(theta) for simple linear regression\n",
    "    X: feature matrix including the x0=1 for intercept\n",
    "    y: response variable\n",
    "    theta: initial value of the theta\n",
    "    \"\"\"\n",
    "\n",
    "    m = X.shape[0]# number of training examples\n",
    "    J = 0\n",
    "    hypo=X.dot(theta)\n",
    "    J=1/(2*m)*((np.array(hypo[0])-np.array(y))**2).sum()\n",
    "    return J"
   ]
  },
  {
   "cell_type": "code",
   "execution_count": 89,
   "metadata": {
    "collapsed": false
   },
   "outputs": [
    {
     "name": "stdout",
     "output_type": "stream",
     "text": [
      "The initial cost function is:  32.0727338775\n"
     ]
    }
   ],
   "source": [
    "print('The initial cost function is: ', computeCost(X, y, theta))"
   ]
  },
  {
   "cell_type": "markdown",
   "metadata": {},
   "source": [
    "#### 2.2 Compute the gradient descent function"
   ]
  },
  {
   "cell_type": "code",
   "execution_count": 135,
   "metadata": {
    "collapsed": false
   },
   "outputs": [],
   "source": [
    "def gradientDescent(X, y, theta, alpha, num_iters):\n",
    "    \n",
    "    \"\"\"\n",
    "    GRADIENTDESCENT Performs gradient descent to learn theta \n",
    "    theta = GRADIENTDESCENT(X, y, theta, alpha, num_iters) updates theta by\n",
    "    taking num_iters gradient steps with learning rate alpha\n",
    "    theta: initial value\n",
    "    alpha: learning rate\n",
    "    num_iters: Number of iterations\n",
    "    \"\"\"\n",
    "\n",
    "# Initialize some useful values\n",
    "    m = y.shape[0] # number of training examples\n",
    "    J_history = np.zeros((num_iters, 1))\n",
    "    theta_history=np.zeros((num_iters, 2))\n",
    "\n",
    "    for iter in range(num_iters):\n",
    "        \n",
    "\n",
    "    # ====================== YOUR CODE HERE ======================\n",
    "    # Instructions: Perform a single gradient step on the parameter vector theta.\n",
    "    # Hint: While debugging, it can be useful to print out the values\n",
    "    #       of the cost function (computeCost) and gradient here.\n",
    "        hypo=X.dot(theta)\n",
    "        theta=theta-(alpha/m*(np.array(hypo[0])-np.array(y)).reshape(1,m).dot(X)).reshape(2,1)\n",
    "\n",
    "    # Save the cost J in every iteration    \n",
    "        J_history[iter] = computeCost(X, y, theta)\n",
    "        theta_history[iter]=theta.reshape(1,2)\n",
    "\n",
    "    return (theta, J_history, theta_history)"
   ]
  },
  {
   "cell_type": "code",
   "execution_count": 136,
   "metadata": {
    "collapsed": false
   },
   "outputs": [
    {
     "name": "stdout",
     "output_type": "stream",
     "text": [
      "Final theta after 1500 iterations is: [[-3.89578053]\n",
      " [ 1.19303361]]\n"
     ]
    },
    {
     "data": {
      "text/plain": [
       "array([[ 4.47697138],\n",
       "       [ 4.47697138],\n",
       "       [ 4.47697138],\n",
       "       ..., \n",
       "       [ 4.47697138],\n",
       "       [ 4.47697138],\n",
       "       [ 4.47697138]])"
      ]
     },
     "execution_count": 136,
     "metadata": {},
     "output_type": "execute_result"
    }
   ],
   "source": [
    "(theta, J_history, theta_history)=gradientDescent(X, y, theta, alpha, 1500)\n",
    "print('Final theta after 1500 iterations is:', theta)\n",
    "J_history"
   ]
  },
  {
   "cell_type": "code",
   "execution_count": 132,
   "metadata": {
    "collapsed": false
   },
   "outputs": [
    {
     "data": {
      "text/plain": [
       "<matplotlib.text.Text at 0x9eb9fd0>"
      ]
     },
     "execution_count": 132,
     "metadata": {},
     "output_type": "execute_result"
    },
    {
     "data": {
      "image/png": "[encoded data removed]",
      "text/plain": [
       "<matplotlib.figure.Figure at 0xb16da20>"
      ]
     },
     "metadata": {},
     "output_type": "display_data"
    }
   ],
   "source": [
    "# automatic convergence test to check whether J_history is decreasing in each iteration\n",
    "plt.plot(np.arange(1500), J_history)\n",
    "plt.title('Automatic convergence test')\n",
    "plt.xlabel('Number of iterations')\n",
    "plt.ylabel('Cost J(theta)')"
   ]
  },
  {
   "cell_type": "markdown",
   "metadata": {},
   "source": [
    "#### 2.3 Use the final parameters to plot the linear fit"
   ]
  },
  {
   "cell_type": "code",
   "execution_count": 117,
   "metadata": {
    "collapsed": false
   },
   "outputs": [],
   "source": [
    "# calculate the y_hat\n",
    "y_hat=X.dot(theta)"
   ]
  },
  {
   "cell_type": "code",
   "execution_count": 128,
   "metadata": {
    "collapsed": false
   },
   "outputs": [
    {
     "data": {
      "text/plain": [
       "<matplotlib.legend.Legend at 0xb0b3ef0>"
      ]
     },
     "execution_count": 128,
     "metadata": {},
     "output_type": "execute_result"
    },
    {
     "data": {
      "image/png": "[encoded data removed]",
      "text/plain": [
       "<matplotlib.figure.Figure at 0x9ff72e8>"
      ]
     },
     "metadata": {},
     "output_type": "display_data"
    }
   ],
   "source": [
    "plt.scatter(reg1['pop'], reg1['profit'], c='red', marker='x', label='Training data')\n",
    "plt.plot(reg1['pop'], y_hat, c='blue', label='Linear Regression')\n",
    "plt.xlabel('Population of City in 10,000s')\n",
    "plt.ylabel('Profit in $10,000s')\n",
    "plt.legend(loc='lower right')\n"
   ]
  },
  {
   "cell_type": "markdown",
   "metadata": {},
   "source": [
    "#### 2.4 Make predictions as below"
   ]
  },
  {
   "cell_type": "code",
   "execution_count": 130,
   "metadata": {
    "collapsed": false
   },
   "outputs": [
    {
     "name": "stdout",
     "output_type": "stream",
     "text": [
      "[ 0.27988796]\n",
      "[ 4.45547801]\n"
     ]
    }
   ],
   "source": [
    "predict1=np.array([1,3.5]).dot(theta)\n",
    "print(predict1)\n",
    "predict2=np.array([1,7]).dot(theta)\n",
    "print(predict2)"
   ]
  },
  {
   "cell_type": "code",
   "execution_count": 145,
   "metadata": {
    "collapsed": false
   },
   "outputs": [
    {
     "data": {
      "text/plain": [
       "array([-3.89577563, -3.89577564, -3.89577565, ..., -3.89578053,\n",
       "       -3.89578053, -3.89578053])"
      ]
     },
     "execution_count": 145,
     "metadata": {},
     "output_type": "execute_result"
    }
   ],
   "source": [
    "theta_history[:,0]"
   ]
  },
  {
   "cell_type": "code",
   "execution_count": 147,
   "metadata": {
    "collapsed": false
   },
   "outputs": [
    {
     "data": {
      "text/plain": [
       "97"
      ]
     },
     "execution_count": 147,
     "metadata": {},
     "output_type": "execute_result"
    }
   ],
   "source": []
  },
  {
   "cell_type": "markdown",
   "metadata": {},
   "source": [
    "### 2.5 Visualizing J(theta) by surface plot and contour plot"
   ]
  },
  {
   "cell_type": "code",
   "execution_count": 152,
   "metadata": {
    "collapsed": false
   },
   "outputs": [],
   "source": [
    "# Grid over which we will calculate J\n",
    "theta0_vals = np.linspace(-10, 10, 100)\n",
    "theta1_vals = np.linspace(-1, 4, 100);\n",
    "\n",
    "# initialize J_vals to a matrix of 0's\n",
    "J_vals = np.zeros((len(theta0_vals), len(theta1_vals)))\n",
    "\n",
    "# Fill out J_vals\n",
    "for i in range(len(theta0_vals)):\n",
    "    for j in range(len(theta1_vals)):\n",
    "        t = [theta0_vals[i], theta1_vals[j]]\n",
    "        J_vals[i,j] = computeCost(X, y, t)"
   ]
  },
  {
   "cell_type": "code",
   "execution_count": 161,
   "metadata": {
    "collapsed": false
   },
   "outputs": [
    {
     "name": "stdout",
     "output_type": "stream",
     "text": [
      "15.0249849608\n",
      "424.041163128\n",
      "77.2340504988\n"
     ]
    }
   ],
   "source": [
    "print(J_vals.min())\n",
    "print(J_vals.max())\n",
    "print(J_vals.mean())"
   ]
  },
  {
   "cell_type": "code",
   "execution_count": 168,
   "metadata": {
    "collapsed": false
   },
   "outputs": [
    {
     "data": {
      "text/plain": [
       "<matplotlib.contour.QuadContourSet at 0xb657898>"
      ]
     },
     "execution_count": 168,
     "metadata": {},
     "output_type": "execute_result"
    },
    {
     "data": {
      "image/png": "[encoded data removed]",
      "text/plain": [
       "<matplotlib.figure.Figure at 0xb5e7a90>"
      ]
     },
     "metadata": {},
     "output_type": "display_data"
    }
   ],
   "source": [
    "plt.contourf(theta0_vals,theta1_vals,J_vals, 7, levels=[0,10,20,150,200,250,300],colors=['b','y','r','c','k','m'])"
   ]
  },
  {
   "cell_type": "code",
   "execution_count": null,
   "metadata": {
    "collapsed": true
   },
   "outputs": [],
   "source": []
  }
 ],
 "metadata": {
  "kernelspec": {
   "display_name": "Python 3",
   "language": "python",
   "name": "python3"
  },
  "language_info": {
   "codemirror_mode": {
    "name": "ipython",
    "version": 3
   },
   "file_extension": ".py",
   "mimetype": "text/x-python",
   "name": "python",
   "nbconvert_exporter": "python",
   "pygments_lexer": "ipython3",
   "version": "3.6.0"
  }
 },
 "nbformat": 4,
 "nbformat_minor": 2
}
