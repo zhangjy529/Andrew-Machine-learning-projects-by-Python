{
 "cells": [
  {
   "cell_type": "markdown",
   "metadata": {},
   "source": [
    "#### ex8 Collaborative filtering learning algorithm"
   ]
  },
  {
   "cell_type": "markdown",
   "metadata": {},
   "source": [
    "You will implement the collaborative filtering learning algorithms. The collorative filtering algorithm in the setting of movie recommendation considers a set of n-dimensional parameter vectors x1,x2,...,x(nm) and theta1, theta2,...,theta(nu), where the model predicts the rating for movie i by user j. y(i,j)=thetaj.T*xi."
   ]
  },
  {
   "cell_type": "code",
   "execution_count": 1,
   "metadata": {},
   "outputs": [],
   "source": [
    "import numpy as np\n",
    "import pandas as pd\n",
    "import matplotlib.pyplot as plt\n",
    "%matplotlib inline\n",
    "import math\n",
    "from scipy.optimize import minimize\n",
    "from scipy.io import loadmat"
   ]
  },
  {
   "cell_type": "markdown",
   "metadata": {},
   "source": [
    "#### Part 1: Loading movie ratings dataset \n",
    "\n",
    "We load the movie ratings dataset to understand the structure of the data."
   ]
  },
  {
   "cell_type": "code",
   "execution_count": 2,
   "metadata": {},
   "outputs": [
    {
     "name": "stdout",
     "output_type": "stream",
     "text": [
      "Loading movie ratings dataset.\n",
      "dict_keys(['__header__', '__version__', '__globals__', 'Y', 'R'])\n",
      "(1682, 943)\n",
      "(1682, 943)\n"
     ]
    }
   ],
   "source": [
    "print('Loading movie ratings dataset.');\n",
    "\n",
    "#  Load data\n",
    "movie=loadmat('ex8_movies.mat');\n",
    "print(movie.keys())\n",
    "#  Y is a 1682x943 matrix, containing ratings (1-5) of 1682 movies on 943 users\n",
    "# R is a 1682x943 matrix, where R(i,j) = 1 if and only if user j gave a \n",
    "# rating to movie i\n",
    "Y=movie['Y']\n",
    "R=movie['R']\n",
    "print(Y.shape)\n",
    "print(R.shape)"
   ]
  },
  {
   "cell_type": "code",
   "execution_count": 3,
   "metadata": {},
   "outputs": [
    {
     "name": "stdout",
     "output_type": "stream",
     "text": [
      "Average rating for movie 1 (Toy Story):  3.8783185840707963\n"
     ]
    }
   ],
   "source": [
    "#  From the matrix, we can compute statistics like average rating.\n",
    "print('Average rating for movie 1 (Toy Story): ', np.mean(Y[0,R[0,:]==1]));"
   ]
  },
  {
   "cell_type": "code",
   "execution_count": 4,
   "metadata": {},
   "outputs": [
    {
     "data": {
      "text/plain": [
       "Text(0.5,15,'Users')"
      ]
     },
     "execution_count": 4,
     "metadata": {},
     "output_type": "execute_result"
    },
    {
     "data": {
      "image/png": "[encoded data removed]",
      "text/plain": [
       "<Figure size 432x288 with 2 Axes>"
      ]
     },
     "metadata": {},
     "output_type": "display_data"
    }
   ],
   "source": [
    "#  We can visualize the ratings matrix by plotting it with the seaborn heatmap\n",
    "import seaborn as sns\n",
    "sns.heatmap(Y)\n",
    "plt.ylabel('Movies')\n",
    "plt.xlabel('Users')"
   ]
  },
  {
   "cell_type": "markdown",
   "metadata": {},
   "source": [
    "#### Part 2: Collaborative Filtering Cost Function\n",
    "We will now implement the cost function for collaborative filtering."
   ]
  },
  {
   "cell_type": "code",
   "execution_count": 5,
   "metadata": {},
   "outputs": [
    {
     "data": {
      "text/plain": [
       "dict_keys(['__header__', '__version__', '__globals__', 'X', 'Theta', 'num_users', 'num_movies', 'num_features'])"
      ]
     },
     "execution_count": 5,
     "metadata": {},
     "output_type": "execute_result"
    }
   ],
   "source": [
    "# Load pre-trained weights (X, Theta, num_users, num_movies, num_features)\n",
    "param=loadmat ('ex8_movieParams.mat');\n",
    "X=param['X']\n",
    "Theta=param['Theta']\n",
    "num_users=param['num_users']\n",
    "num_movies=param['num_movies']\n",
    "num_features=param['num_features']\n",
    "param.keys()"
   ]
  },
  {
   "cell_type": "code",
   "execution_count": 6,
   "metadata": {},
   "outputs": [],
   "source": [
    "# Reduce the data set size so that this runs faster\n",
    "num_users = 4; num_movies = 5; num_features = 3;\n",
    "X = X[0:num_movies, 0:num_features];\n",
    "Theta = Theta[0:num_users, 0:num_features];\n",
    "Y = Y[0:num_movies, 0:num_users];\n",
    "R = R[0:num_movies, 0:num_users];"
   ]
  },
  {
   "cell_type": "markdown",
   "metadata": {},
   "source": [
    "##### 2.1 Collaborative filtering cost function\n",
    "\n",
    "The collaborative filtering cost function(without regularization) is given by\n",
    "<img src='../pic/RS_cost1.jpg'>"
   ]
  },
  {
   "cell_type": "code",
   "execution_count": 7,
   "metadata": {},
   "outputs": [],
   "source": [
    "def cofiCostFunc(params, Y, R, num_users, num_movies, num_features, lambda_var):\n",
    "\n",
    "# Notes: X - num_movies  x num_features matrix of movie features\n",
    "#        Theta - num_users  x num_features matrix of user features\n",
    "#        Y - num_movies x num_users matrix of user ratings of movies\n",
    "#        R - num_movies x num_users matrix, where R(i, j) = 1 if the i-th movie was rated by the j-th user\n",
    "\n",
    "# Unfold the U and W matrices from params\n",
    "    X = np.reshape(params[0:num_movies*num_features], (num_movies, num_features), order='F');\n",
    "    Theta = np.reshape(params[num_movies*num_features::], (num_users, num_features), order='F');\n",
    "\n",
    "    J = 0;\n",
    "    X_grad = np.zeros(X.shape);\n",
    "    Theta_grad = np.zeros(Theta.shape);\n",
    "    \n",
    "    squared_error=np.power(np.dot(X, Theta.T)-Y,2)\n",
    "    J=0.5*np.sum(squared_error*R)+lambda_var/2*np.sum(np.power(params,2))\n",
    "    X_grad=np.dot((np.dot(X, Theta.T)*R-Y), Theta)+lambda_var*X\n",
    "    Theta_grad=np.dot((np.dot(X, Theta.T)*R-Y).T, X)+lambda_var*Theta\n",
    "    \n",
    "    grad = np.concatenate((X_grad.reshape(X_grad.size,order='F'), Theta_grad.reshape(Theta_grad.size, order='F')))\n",
    "    return J, grad"
   ]
  },
  {
   "cell_type": "code",
   "execution_count": 8,
   "metadata": {},
   "outputs": [
    {
     "name": "stdout",
     "output_type": "stream",
     "text": [
      "Cost at loaded parameters: 22.224603725685675\n",
      "this value should be about 22.22\n"
     ]
    }
   ],
   "source": [
    "#  Evaluate cost function\n",
    "params = np.concatenate((X.reshape(X.size, order='F'), Theta.reshape(Theta.size, order='F')))\n",
    "\n",
    "J, grad= cofiCostFunc(params, Y, R, num_users, num_movies, num_features, 0)\n",
    "           \n",
    "print('Cost at loaded parameters:', J)\n",
    "print('this value should be about 22.22')"
   ]
  },
  {
   "cell_type": "markdown",
   "metadata": {},
   "source": [
    "#### Part 3: Collaborative Filtering Gradient \n",
    "\n",
    "Once your cost function matches up with ours, you should now implement \n",
    "the collaborative filtering gradient function. Specifically, you should \n",
    "complete the code in cofiCostFunc.m to return the grad argument."
   ]
  },
  {
   "cell_type": "code",
   "execution_count": 9,
   "metadata": {},
   "outputs": [],
   "source": [
    "def computeNumericalGradient(J, theta):\n",
    "\n",
    "    numgrad = np.zeros(theta.shape);\n",
    "    perturb = np.zeros(theta.shape);\n",
    "    \n",
    "    e = 1e-4;\n",
    "    \n",
    "    for p in range(theta.size):\n",
    "    # Set perturbation vector\n",
    "        perturb.reshape(perturb.size, order='F')[p]=e\n",
    "        loss1,_ = J(theta - perturb);\n",
    "        loss2,_ = J(theta + perturb);\n",
    "    # Compute Numerical Gradient\n",
    "        numgrad.reshape(numgrad.size, order='F')[p] = (loss2 - loss1) / (2*e);\n",
    "        perturb.reshape(perturb.size, order='F')[p] = 0;\n",
    "    return numgrad"
   ]
  },
  {
   "cell_type": "code",
   "execution_count": 10,
   "metadata": {},
   "outputs": [],
   "source": [
    "def checkCostFunction(lambda_var):\n",
    "    \n",
    "#   CHECKCOSTFUNCTION(lambda) Creates a collaborative filering problem \n",
    "#   to check your cost function and gradients, it will output the \n",
    "#   analytical gradients produced by your code and the numerical gradients \n",
    "#   (computed using computeNumericalGradient). These two gradient \n",
    "#   computations should result in very similar values.\n",
    "\n",
    "# Set lambda\n",
    "    if not lambda_var:\n",
    "        lambda_var=0\n",
    "\n",
    "# Create small problem\n",
    "    X_t = np.random.rand(4, 3);\n",
    "    Theta_t = np.random.rand(5, 3);\n",
    "\n",
    "# Zap out most entries\n",
    "    Y = np.dot(X_t,Theta_t.T);\n",
    "    Y[np.random.rand(Y.shape[0], Y.shape[1]) > 0.5] = 0\n",
    "    R = np.zeros(Y.shape);\n",
    "    R[Y!=0] = 1;\n",
    "\n",
    "# Run Gradient Checking\n",
    "    X = np.random.randn(X_t.shape[0], X_t.shape[1]);\n",
    "    Theta = np.random.randn(Theta_t.shape[0], Theta_t.shape[1]);\n",
    "    num_users = Y.shape[1];\n",
    "    num_movies = Y.shape[0];\n",
    "    num_features = Theta_t.shape[1];\n",
    "    params = np.concatenate((X.reshape(X.size, order='F'), Theta.reshape(Theta.size, order='F')))\n",
    "\n",
    "    def costFunc(p):\n",
    "        return cofiCostFunc(p,  Y, R, num_users, num_movies, num_features, lambda_var);\n",
    "    \n",
    "    numgrad = computeNumericalGradient(costFunc, params);\n",
    "    cost, grad =cofiCostFunc(params,  Y, R, num_users, num_movies, num_features, lambda_var); \n",
    "    print(numgrad.shape)\n",
    "    print(grad.shape)\n",
    "    print(np.column_stack((numgrad,grad)))\n",
    "\n",
    "    diff = np.linalg.norm(numgrad-grad)/np.linalg.norm(numgrad+grad);\n",
    "    print('The relative difference is :', diff);"
   ]
  },
  {
   "cell_type": "code",
   "execution_count": 11,
   "metadata": {},
   "outputs": [
    {
     "name": "stdout",
     "output_type": "stream",
     "text": [
      "\n",
      "Checking Gradients (without regularization) ... \n",
      "\n",
      "(27,)\n",
      "(27,)\n",
      "[[-0.4113512  -0.4113512 ]\n",
      " [ 6.77091772  6.77091772]\n",
      " [ 0.92829249  0.92829249]\n",
      " [-0.05255745 -0.05255745]\n",
      " [ 0.41727341  0.41727341]\n",
      " [-1.43520019 -1.43520019]\n",
      " [ 0.40996355  0.40996355]\n",
      " [-0.15919567 -0.15919567]\n",
      " [ 0.69834781  0.69834781]\n",
      " [-1.0361805  -1.0361805 ]\n",
      " [ 0.35918003  0.35918003]\n",
      " [-0.25335212 -0.25335212]\n",
      " [-2.54099153 -2.54099153]\n",
      " [ 0.82136919  0.82136919]\n",
      " [-0.1874529  -0.1874529 ]\n",
      " [-4.49609827 -4.49609827]\n",
      " [-0.63495674 -0.63495674]\n",
      " [ 1.94587412  1.94587412]\n",
      " [-0.47009049 -0.47009049]\n",
      " [ 0.34649008  0.34649008]\n",
      " [ 4.70375829  4.70375829]\n",
      " [ 0.54813348  0.54813348]\n",
      " [-0.60706196 -0.60706196]\n",
      " [-0.05907787 -0.05907787]\n",
      " [-0.6323278  -0.6323278 ]\n",
      " [-0.70693072 -0.70693072]\n",
      " [ 0.30871194  0.30871194]]\n",
      "The relative difference is : 1.4934351453163246e-12\n"
     ]
    }
   ],
   "source": [
    " print('\\nChecking Gradients (without regularization) ... \\n')\n",
    "\n",
    "#  Check gradients by running checkNNGradients\n",
    "checkCostFunction(lambda_var=0)"
   ]
  },
  {
   "cell_type": "markdown",
   "metadata": {},
   "source": [
    "#### Part 4: Collaborative Filtering Cost Regularization \n",
    "\n",
    "Now we will implement regularization for the cost function for collaborative filtering. We can implement it by adding the cost of regularization to the original cost computation."
   ]
  },
  {
   "cell_type": "code",
   "execution_count": 15,
   "metadata": {},
   "outputs": [
    {
     "name": "stdout",
     "output_type": "stream",
     "text": [
      "Cost at loaded parameters (lambda=1.5) is 31.344056:\n",
      "this value should be about 31.34\n"
     ]
    }
   ],
   "source": [
    "params = np.concatenate((X.reshape(X.size, order='F'), Theta.reshape(Theta.size, order='F')))\n",
    "#  Evaluate cost function\n",
    "J, grad = cofiCostFunc(params, Y, R, num_users, num_movies, num_features, 1.5);\n",
    "            \n",
    "print('Cost at loaded parameters (lambda=1.5) is {:f}:'.format(J))     \n",
    "print('this value should be about 31.34')"
   ]
  },
  {
   "cell_type": "markdown",
   "metadata": {},
   "source": [
    "#### Part 5: Entering ratings for a new user\n",
    "\n",
    "Before we will train the collaborative filtering model, we will first add ratings that correspond to a new user that we just observed. This part of the code will also allow us to put in your own ratings for the movies in our dataset!"
   ]
  },
  {
   "cell_type": "code",
   "execution_count": 19,
   "metadata": {},
   "outputs": [],
   "source": [
    "def loadMovieList():\n",
    "    ## Read the fixed movieulary list\n",
    "    with open(\"movie_ids.txt\") as movie_ids_file:\n",
    "\n",
    "        n = 349  # Total number of movies \n",
    "        movieList = [None]*n\n",
    "        for i, line in enumerate(movie_ids_file.readlines()):\n",
    "            #print(line)\n",
    "            movieName = line.split()\n",
    "            #print(movieName)\n",
    "            movieList[i] = \" \".join(movieName)\n",
    "    #print(movieList)\n",
    "    return movieList"
   ]
  },
  {
   "cell_type": "code",
   "execution_count": 20,
   "metadata": {},
   "outputs": [
    {
     "name": "stdout",
     "output_type": "stream",
     "text": [
      "['1 Toy Story (1995)', '2 GoldenEye (1995)']\n"
     ]
    },
    {
     "data": {
      "text/plain": [
       "['1 Toy Story (1995)',\n",
       " '2 GoldenEye (1995)',\n",
       " '3 Four Rooms (1995)',\n",
       " '4 Get Shorty (1995)',\n",
       " '5 Copycat (1995)',\n",
       " '6 Shanghai Triad (Yao a yao yao dao waipo qiao) (1995)',\n",
       " '7 Twelve Monkeys (1995)',\n",
       " '8 Babe (1995)',\n",
       " '9 Dead Man Walking (1995)',\n",
       " '10 Richard III (1995)',\n",
       " '11 Seven (Se7en) (1995)',\n",
       " '12 Usual Suspects, The (1995)',\n",
       " '13 Mighty Aphrodite (1995)',\n",
       " '14 Postino, Il (1994)',\n",
       " \"15 Mr. Holland's Opus (1995)\",\n",
       " '16 French Twist (Gazon maudit) (1995)',\n",
       " '17 From Dusk Till Dawn (1996)',\n",
       " '18 White Balloon, The (1995)',\n",
       " \"19 Antonia's Line (1995)\",\n",
       " '20 Angels and Insects (1995)',\n",
       " '21 Muppet Treasure Island (1996)',\n",
       " '22 Braveheart (1995)',\n",
       " '23 Taxi Driver (1976)',\n",
       " '24 Rumble in the Bronx (1995)',\n",
       " '25 Birdcage, The (1996)',\n",
       " '26 Brothers McMullen, The (1995)',\n",
       " '27 Bad Boys (1995)',\n",
       " '28 Apollo 13 (1995)',\n",
       " '29 Batman Forever (1995)',\n",
       " '30 Belle de jour (1967)',\n",
       " '31 Crimson Tide (1995)',\n",
       " '32 Crumb (1994)',\n",
       " '33 Desperado (1995)',\n",
       " '34 Doom Generation, The (1995)',\n",
       " '35 Free Willy 2: The Adventure Home (1995)',\n",
       " '36 Mad Love (1995)',\n",
       " '37 Nadja (1994)',\n",
       " '38 Net, The (1995)',\n",
       " '39 Strange Days (1995)',\n",
       " '40 To Wong Foo, Thanks for Everything! Julie Newmar (1995)',\n",
       " '41 Billy Madison (1995)',\n",
       " '42 Clerks (1994)',\n",
       " '43 Disclosure (1994)',\n",
       " '44 Dolores Claiborne (1994)',\n",
       " '45 Eat Drink Man Woman (1994)',\n",
       " '46 Exotica (1994)',\n",
       " '47 Ed Wood (1994)',\n",
       " '48 Hoop Dreams (1994)',\n",
       " '49 I.Q. (1994)',\n",
       " '50 Star Wars (1977)',\n",
       " '51 Legends of the Fall (1994)',\n",
       " '52 Madness of King George, The (1994)',\n",
       " '53 Natural Born Killers (1994)',\n",
       " '54 Outbreak (1995)',\n",
       " '55 Professional, The (1994)',\n",
       " '56 Pulp Fiction (1994)',\n",
       " '57 Priest (1994)',\n",
       " '58 Quiz Show (1994)',\n",
       " '59 Three Colors: Red (1994)',\n",
       " '60 Three Colors: Blue (1993)',\n",
       " '61 Three Colors: White (1994)',\n",
       " '62 Stargate (1994)',\n",
       " '63 Santa Clause, The (1994)',\n",
       " '64 Shawshank Redemption, The (1994)',\n",
       " \"65 What's Eating Gilbert Grape (1993)\",\n",
       " '66 While You Were Sleeping (1995)',\n",
       " '67 Ace Ventura: Pet Detective (1994)',\n",
       " '68 Crow, The (1994)',\n",
       " '69 Forrest Gump (1994)',\n",
       " '70 Four Weddings and a Funeral (1994)',\n",
       " '71 Lion King, The (1994)',\n",
       " '72 Mask, The (1994)',\n",
       " '73 Maverick (1994)',\n",
       " '74 Faster Pussycat! Kill! Kill! (1965)',\n",
       " '75 Brother Minister: The Assassination of Malcolm X (1994)',\n",
       " \"76 Carlito's Way (1993)\",\n",
       " '77 Firm, The (1993)',\n",
       " '78 Free Willy (1993)',\n",
       " '79 Fugitive, The (1993)',\n",
       " '80 Hot Shots! Part Deux (1993)',\n",
       " '81 Hudsucker Proxy, The (1994)',\n",
       " '82 Jurassic Park (1993)',\n",
       " '83 Much Ado About Nothing (1993)',\n",
       " \"84 Robert A. Heinlein's The Puppet Masters (1994)\",\n",
       " '85 Ref, The (1994)',\n",
       " '86 Remains of the Day, The (1993)',\n",
       " '87 Searching for Bobby Fischer (1993)',\n",
       " '88 Sleepless in Seattle (1993)',\n",
       " '89 Blade Runner (1982)',\n",
       " '90 So I Married an Axe Murderer (1993)',\n",
       " '91 Nightmare Before Christmas, The (1993)',\n",
       " '92 True Romance (1993)',\n",
       " '93 Welcome to the Dollhouse (1995)',\n",
       " '94 Home Alone (1990)',\n",
       " '95 Aladdin (1992)',\n",
       " '96 Terminator 2: Judgment Day (1991)',\n",
       " '97 Dances with Wolves (1990)',\n",
       " '98 Silence of the Lambs, The (1991)',\n",
       " '99 Snow White and the Seven Dwarfs (1937)',\n",
       " '100 Fargo (1996)',\n",
       " '101 Heavy Metal (1981)',\n",
       " '102 Aristocats, The (1970)',\n",
       " '103 All Dogs Go to Heaven 2 (1996)',\n",
       " '104 Theodore Rex (1995)',\n",
       " '105 Sgt. Bilko (1996)',\n",
       " '106 Diabolique (1996)',\n",
       " '107 Moll Flanders (1996)',\n",
       " '108 Kids in the Hall: Brain Candy (1996)',\n",
       " '109 Mystery Science Theater 3000: The Movie (1996)',\n",
       " '110 Operation Dumbo Drop (1995)',\n",
       " '111 Truth About Cats & Dogs, The (1996)',\n",
       " '112 Flipper (1996)',\n",
       " '113 Horseman on the Roof, The (Hussard sur le toit, Le) (1995)',\n",
       " '114 Wallace & Gromit: The Best of Aardman Animation (1996)',\n",
       " '115 Haunted World of Edward D. Wood Jr., The (1995)',\n",
       " '116 Cold Comfort Farm (1995)',\n",
       " '117 Rock, The (1996)',\n",
       " '118 Twister (1996)',\n",
       " '119 Maya Lin: A Strong Clear Vision (1994)',\n",
       " '120 Striptease (1996)',\n",
       " '121 Independence Day (ID4) (1996)',\n",
       " '122 Cable Guy, The (1996)',\n",
       " '123 Frighteners, The (1996)',\n",
       " '124 Lone Star (1996)',\n",
       " '125 Phenomenon (1996)',\n",
       " '126 Spitfire Grill, The (1996)',\n",
       " '127 Godfather, The (1972)',\n",
       " '128 Supercop (1992)',\n",
       " '129 Bound (1996)',\n",
       " '130 Kansas City (1996)',\n",
       " \"131 Breakfast at Tiffany's (1961)\",\n",
       " '132 Wizard of Oz, The (1939)',\n",
       " '133 Gone with the Wind (1939)',\n",
       " '134 Citizen Kane (1941)',\n",
       " '135 2001: A Space Odyssey (1968)',\n",
       " '136 Mr. Smith Goes to Washington (1939)',\n",
       " '137 Big Night (1996)',\n",
       " '138 D3: The Mighty Ducks (1996)',\n",
       " '139 Love Bug, The (1969)',\n",
       " '140 Homeward Bound: The Incredible Journey (1993)',\n",
       " '141 20,000 Leagues Under the Sea (1954)',\n",
       " '142 Bedknobs and Broomsticks (1971)',\n",
       " '143 Sound of Music, The (1965)',\n",
       " '144 Die Hard (1988)',\n",
       " '145 Lawnmower Man, The (1992)',\n",
       " '146 Unhook the Stars (1996)',\n",
       " '147 Long Kiss Goodnight, The (1996)',\n",
       " '148 Ghost and the Darkness, The (1996)',\n",
       " '149 Jude (1996)',\n",
       " '150 Swingers (1996)',\n",
       " '151 Willy Wonka and the Chocolate Factory (1971)',\n",
       " '152 Sleeper (1973)',\n",
       " '153 Fish Called Wanda, A (1988)',\n",
       " \"154 Monty Python's Life of Brian (1979)\",\n",
       " '155 Dirty Dancing (1987)',\n",
       " '156 Reservoir Dogs (1992)',\n",
       " '157 Platoon (1986)',\n",
       " \"158 Weekend at Bernie's (1989)\",\n",
       " '159 Basic Instinct (1992)',\n",
       " '160 Glengarry Glen Ross (1992)',\n",
       " '161 Top Gun (1986)',\n",
       " '162 On Golden Pond (1981)',\n",
       " '163 Return of the Pink Panther, The (1974)',\n",
       " '164 Abyss, The (1989)',\n",
       " '165 Jean de Florette (1986)',\n",
       " '166 Manon of the Spring (Manon des sources) (1986)',\n",
       " '167 Private Benjamin (1980)',\n",
       " '168 Monty Python and the Holy Grail (1974)',\n",
       " '169 Wrong Trousers, The (1993)',\n",
       " '170 Cinema Paradiso (1988)',\n",
       " '171 Delicatessen (1991)',\n",
       " '172 Empire Strikes Back, The (1980)',\n",
       " '173 Princess Bride, The (1987)',\n",
       " '174 Raiders of the Lost Ark (1981)',\n",
       " '175 Brazil (1985)',\n",
       " '176 Aliens (1986)',\n",
       " '177 Good, The Bad and The Ugly, The (1966)',\n",
       " '178 12 Angry Men (1957)',\n",
       " '179 Clockwork Orange, A (1971)',\n",
       " '180 Apocalypse Now (1979)',\n",
       " '181 Return of the Jedi (1983)',\n",
       " '182 GoodFellas (1990)',\n",
       " '183 Alien (1979)',\n",
       " '184 Army of Darkness (1993)',\n",
       " '185 Psycho (1960)',\n",
       " '186 Blues Brothers, The (1980)',\n",
       " '187 Godfather: Part II, The (1974)',\n",
       " '188 Full Metal Jacket (1987)',\n",
       " '189 Grand Day Out, A (1992)',\n",
       " '190 Henry V (1989)',\n",
       " '191 Amadeus (1984)',\n",
       " '192 Raging Bull (1980)',\n",
       " '193 Right Stuff, The (1983)',\n",
       " '194 Sting, The (1973)',\n",
       " '195 Terminator, The (1984)',\n",
       " '196 Dead Poets Society (1989)',\n",
       " '197 Graduate, The (1967)',\n",
       " '198 Nikita (La Femme Nikita) (1990)',\n",
       " '199 Bridge on the River Kwai, The (1957)',\n",
       " '200 Shining, The (1980)',\n",
       " '201 Evil Dead II (1987)',\n",
       " '202 Groundhog Day (1993)',\n",
       " '203 Unforgiven (1992)',\n",
       " '204 Back to the Future (1985)',\n",
       " '205 Patton (1970)',\n",
       " '206 Akira (1988)',\n",
       " '207 Cyrano de Bergerac (1990)',\n",
       " '208 Young Frankenstein (1974)',\n",
       " '209 This Is Spinal Tap (1984)',\n",
       " '210 Indiana Jones and the Last Crusade (1989)',\n",
       " '211 M*A*S*H (1970)',\n",
       " '212 Unbearable Lightness of Being, The (1988)',\n",
       " '213 Room with a View, A (1986)',\n",
       " '214 Pink Floyd - The Wall (1982)',\n",
       " '215 Field of Dreams (1989)',\n",
       " '216 When Harry Met Sally... (1989)',\n",
       " \"217 Bram Stoker's Dracula (1992)\",\n",
       " '218 Cape Fear (1991)',\n",
       " '219 Nightmare on Elm Street, A (1984)',\n",
       " '220 Mirror Has Two Faces, The (1996)',\n",
       " '221 Breaking the Waves (1996)',\n",
       " '222 Star Trek: First Contact (1996)',\n",
       " '223 Sling Blade (1996)',\n",
       " '224 Ridicule (1996)',\n",
       " '225 101 Dalmatians (1996)',\n",
       " '226 Die Hard 2 (1990)',\n",
       " '227 Star Trek VI: The Undiscovered Country (1991)',\n",
       " '228 Star Trek: The Wrath of Khan (1982)',\n",
       " '229 Star Trek III: The Search for Spock (1984)',\n",
       " '230 Star Trek IV: The Voyage Home (1986)',\n",
       " '231 Batman Returns (1992)',\n",
       " '232 Young Guns (1988)',\n",
       " '233 Under Siege (1992)',\n",
       " '234 Jaws (1975)',\n",
       " '235 Mars Attacks! (1996)',\n",
       " '236 Citizen Ruth (1996)',\n",
       " '237 Jerry Maguire (1996)',\n",
       " '238 Raising Arizona (1987)',\n",
       " '239 Sneakers (1992)',\n",
       " '240 Beavis and Butt-head Do America (1996)',\n",
       " '241 Last of the Mohicans, The (1992)',\n",
       " '242 Kolya (1996)',\n",
       " '243 Jungle2Jungle (1997)',\n",
       " \"244 Smilla's Sense of Snow (1997)\",\n",
       " \"245 Devil's Own, The (1997)\",\n",
       " '246 Chasing Amy (1997)',\n",
       " '247 Turbo: A Power Rangers Movie (1997)',\n",
       " '248 Grosse Pointe Blank (1997)',\n",
       " '249 Austin Powers: International Man of Mystery (1997)',\n",
       " '250 Fifth Element, The (1997)',\n",
       " '251 Shall We Dance? (1996)',\n",
       " '252 Lost World: Jurassic Park, The (1997)',\n",
       " '253 Pillow Book, The (1995)',\n",
       " '254 Batman & Robin (1997)',\n",
       " \"255 My Best Friend's Wedding (1997)\",\n",
       " '256 When the Cats Away (Chacun cherche son chat) (1996)',\n",
       " '257 Men in Black (1997)',\n",
       " '258 Contact (1997)',\n",
       " '259 George of the Jungle (1997)',\n",
       " '260 Event Horizon (1997)',\n",
       " '261 Air Bud (1997)',\n",
       " '262 In the Company of Men (1997)',\n",
       " '263 Steel (1997)',\n",
       " '264 Mimic (1997)',\n",
       " '265 Hunt for Red October, The (1990)',\n",
       " '266 Kull the Conqueror (1997)',\n",
       " '267 unknown',\n",
       " '268 Chasing Amy (1997)',\n",
       " '269 Full Monty, The (1997)',\n",
       " '270 Gattaca (1997)',\n",
       " '271 Starship Troopers (1997)',\n",
       " '272 Good Will Hunting (1997)',\n",
       " '273 Heat (1995)',\n",
       " '274 Sabrina (1995)',\n",
       " '275 Sense and Sensibility (1995)',\n",
       " '276 Leaving Las Vegas (1995)',\n",
       " '277 Restoration (1995)',\n",
       " '278 Bed of Roses (1996)',\n",
       " '279 Once Upon a Time... When We Were Colored (1995)',\n",
       " '280 Up Close and Personal (1996)',\n",
       " '281 River Wild, The (1994)',\n",
       " '282 Time to Kill, A (1996)',\n",
       " '283 Emma (1996)',\n",
       " '284 Tin Cup (1996)',\n",
       " '285 Secrets & Lies (1996)',\n",
       " '286 English Patient, The (1996)',\n",
       " \"287 Marvin's Room (1996)\",\n",
       " '288 Scream (1996)',\n",
       " '289 Evita (1996)',\n",
       " '290 Fierce Creatures (1997)',\n",
       " '291 Absolute Power (1997)',\n",
       " '292 Rosewood (1997)',\n",
       " '293 Donnie Brasco (1997)',\n",
       " '294 Liar Liar (1997)',\n",
       " '295 Breakdown (1997)',\n",
       " '296 Promesse, La (1996)',\n",
       " \"297 Ulee's Gold (1997)\",\n",
       " '298 Face/Off (1997)',\n",
       " '299 Hoodlum (1997)',\n",
       " '300 Air Force One (1997)',\n",
       " '301 In & Out (1997)',\n",
       " '302 L.A. Confidential (1997)',\n",
       " \"303 Ulee's Gold (1997)\",\n",
       " '304 Fly Away Home (1996)',\n",
       " '305 Ice Storm, The (1997)',\n",
       " '306 Mrs. Brown (Her Majesty, Mrs. Brown) (1997)',\n",
       " \"307 Devil's Advocate, The (1997)\",\n",
       " '308 FairyTale: A True Story (1997)',\n",
       " '309 Deceiver (1997)',\n",
       " '310 Rainmaker, The (1997)',\n",
       " '311 Wings of the Dove, The (1997)',\n",
       " '312 Midnight in the Garden of Good and Evil (1997)',\n",
       " '313 Titanic (1997)',\n",
       " '314 3 Ninjas: High Noon At Mega Mountain (1998)',\n",
       " '315 Apt Pupil (1998)',\n",
       " '316 As Good As It Gets (1997)',\n",
       " '317 In the Name of the Father (1993)',\n",
       " \"318 Schindler's List (1993)\",\n",
       " '319 Everyone Says I Love You (1996)',\n",
       " '320 Paradise Lost: The Child Murders at Robin Hood Hills (1996)',\n",
       " '321 Mother (1996)',\n",
       " '322 Murder at 1600 (1997)',\n",
       " \"323 Dante's Peak (1997)\",\n",
       " '324 Lost Highway (1997)',\n",
       " '325 Crash (1996)',\n",
       " '326 G.I. Jane (1997)',\n",
       " '327 Cop Land (1997)',\n",
       " '328 Conspiracy Theory (1997)',\n",
       " '329 Desperate Measures (1998)',\n",
       " '330 187 (1997)',\n",
       " '331 Edge, The (1997)',\n",
       " '332 Kiss the Girls (1997)',\n",
       " '333 Game, The (1997)',\n",
       " '334 U Turn (1997)',\n",
       " '335 How to Be a Player (1997)',\n",
       " '336 Playing God (1997)',\n",
       " '337 House of Yes, The (1997)',\n",
       " '338 Bean (1997)',\n",
       " '339 Mad City (1997)',\n",
       " '340 Boogie Nights (1997)',\n",
       " '341 Critical Care (1997)',\n",
       " '342 Man Who Knew Too Little, The (1997)',\n",
       " '343 Alien: Resurrection (1997)',\n",
       " '344 Apostle, The (1997)',\n",
       " '345 Deconstructing Harry (1997)',\n",
       " '346 Jackie Brown (1997)',\n",
       " '347 Wag the Dog (1997)',\n",
       " '348 Desperate Measures (1998)',\n",
       " '349 Hard Rain (1998)']"
      ]
     },
     "execution_count": 20,
     "metadata": {},
     "output_type": "execute_result"
    }
   ],
   "source": [
    "movieList = loadMovieList();\n",
    "print(movieList[0:2])\n",
    "movieList"
   ]
  },
  {
   "cell_type": "code",
   "execution_count": 21,
   "metadata": {},
   "outputs": [],
   "source": [
    "#  Initialize my ratings\n",
    "my_ratings = np.zeros((349,1));\n",
    "\n",
    "# Check the file movie_idx.txt for id of each movie in our dataset\n",
    "# For example, Toy Story (1995) has ID 1, so to rate it \"4\", you can set\n",
    "my_ratings[0] = 4;\n",
    "\n",
    "# Or suppose did not enjoy Silence of the Lambs (1991), you can set\n",
    "my_ratings[98] = 2;\n",
    "\n",
    "# We have selected a few movies we liked / did not like and the ratings we\n",
    "# gave are as follows:\n",
    "my_ratings[6] = 3;\n",
    "my_ratings[11]= 5;\n",
    "my_ratings[53] = 4;\n",
    "my_ratings[63]= 5;\n",
    "my_ratings[65]= 3;\n",
    "my_ratings[68] = 5;\n",
    "my_ratings[182] = 4;\n",
    "my_ratings[225] = 5;\n",
    "my_ratings[339]= 5;"
   ]
  },
  {
   "cell_type": "code",
   "execution_count": 22,
   "metadata": {},
   "outputs": [
    {
     "data": {
      "text/plain": [
       "array([0.])"
      ]
     },
     "execution_count": 22,
     "metadata": {},
     "output_type": "execute_result"
    }
   ],
   "source": [
    "my_ratings[340]"
   ]
  },
  {
   "cell_type": "code",
   "execution_count": 23,
   "metadata": {},
   "outputs": [
    {
     "name": "stdout",
     "output_type": "stream",
     "text": [
      "\n",
      "\n",
      "New user ratings:\n",
      "\n",
      "[4.] 1 Toy Story (1995)\n",
      "[3.] 7 Twelve Monkeys (1995)\n",
      "[5.] 12 Usual Suspects, The (1995)\n",
      "[4.] 54 Outbreak (1995)\n",
      "[5.] 64 Shawshank Redemption, The (1994)\n",
      "[3.] 66 While You Were Sleeping (1995)\n",
      "[5.] 69 Forrest Gump (1994)\n",
      "[2.] 99 Snow White and the Seven Dwarfs (1937)\n",
      "[4.] 183 Alien (1979)\n",
      "[5.] 226 Die Hard 2 (1990)\n",
      "[5.] 340 Boogie Nights (1997)\n"
     ]
    }
   ],
   "source": [
    "print('\\n\\nNew user ratings:\\n');\n",
    "\n",
    "for i in range(len(my_ratings)):\n",
    "    if my_ratings[i] > 0: \n",
    "        print(my_ratings[i],movieList[i]);"
   ]
  },
  {
   "cell_type": "markdown",
   "metadata": {},
   "source": [
    "#### Part 6: Learning Movie Ratings \n",
    "\n",
    "Now, we will train the collaborative filtering model on a movie rating dataset of 349 movies and 943 users"
   ]
  },
  {
   "cell_type": "code",
   "execution_count": 24,
   "metadata": {},
   "outputs": [
    {
     "name": "stdout",
     "output_type": "stream",
     "text": [
      "(1682, 943)\n",
      "(1682, 943)\n"
     ]
    }
   ],
   "source": [
    "ex8_movies=loadmat('ex8_movies.mat');\n",
    "\n",
    "#  Y is a 1682x943 matrix, containing ratings (1-5) of 1682 movies by 943 users\n",
    "#  R is a 1682x943 matrix, where R(i,j) = 1 if and only if user j gave a rating to movie i\n",
    "Y=ex8_movies['Y']\n",
    "R=ex8_movies['R']\n",
    "print(Y.shape)\n",
    "print(R.shape)\n",
    "Y_sub=Y.copy()\n",
    "Y_sub=Y_sub[:349,:]\n",
    "R_sub=R.copy()\n",
    "R_sub=R_sub[:349,:]"
   ]
  },
  {
   "cell_type": "code",
   "execution_count": 28,
   "metadata": {},
   "outputs": [],
   "source": [
    "#  Add our own ratings to the data matrix\n",
    "Y_sub=np.column_stack((my_ratings,Y_sub))\n",
    "R_sub = np.column_stack(((my_ratings!=0).astype(int),R_sub))"
   ]
  },
  {
   "cell_type": "code",
   "execution_count": 29,
   "metadata": {},
   "outputs": [
    {
     "name": "stdout",
     "output_type": "stream",
     "text": [
      "(349, 944)\n",
      "(349, 944)\n"
     ]
    }
   ],
   "source": [
    "print(R_sub.shape)\n",
    "print(Y_sub.shape)"
   ]
  },
  {
   "cell_type": "code",
   "execution_count": 31,
   "metadata": {},
   "outputs": [],
   "source": [
    "def normalizeRatings(Y, R):\n",
    "    # [Ynorm, Ymean] = NORMALIZERATINGS(Y, R) normalized Y so that each movie\n",
    "    # has a rating of 0 on average, and returns the mean rating in Ymean.\n",
    "    m, n = Y.shape\n",
    "    Ymean = np.zeros((m, 1))\n",
    "    Ynorm = np.zeros(Y.shape)\n",
    "    for i in range(m):\n",
    "        idx = R[i, :] == 1 #idx is for columns that have ratings \n",
    "        Ymean[i] = np.mean(Y[i, idx])\n",
    "        Ynorm[i, idx] = Y[i, idx] - Ymean[i]\n",
    "\n",
    "    return Ynorm, Ymean"
   ]
  },
  {
   "cell_type": "code",
   "execution_count": 32,
   "metadata": {},
   "outputs": [],
   "source": [
    "#  Normalize Ratings\n",
    "[Ynorm, Ymean] = normalizeRatings(Y_sub, R_sub);"
   ]
  },
  {
   "cell_type": "code",
   "execution_count": 33,
   "metadata": {},
   "outputs": [],
   "source": [
    "#  Useful Values\n",
    "num_users = Y_sub.shape[1];\n",
    "num_movies = Y_sub.shape[0];\n",
    "num_features = 10;\n",
    "\n",
    "# Set Initial Parameters (Theta, X)\n",
    "X = np.random.randn(num_movies, num_features);\n",
    "Theta = np.random.randn(num_users, num_features);"
   ]
  },
  {
   "cell_type": "code",
   "execution_count": 34,
   "metadata": {},
   "outputs": [],
   "source": [
    "initial_parameters = np.concatenate((X.reshape(X.size, order='F'), Theta.reshape(Theta.size, order='F')))\n",
    "\n",
    "# Set options\n",
    "maxiter = 100\n",
    "options = {'disp': True, 'maxiter':maxiter}\n",
    "lambda_var=10\n",
    "\n",
    "# Create \"short hand\" for the cost function to be minimized\n",
    "def costFunc(initial_parameters):\n",
    "    return cofiCostFunc(initial_parameters, Y_sub, R_sub, num_users, num_movies, num_features, lambda_var)\n",
    "\n",
    "# Set Regularization\n",
    "results = minimize(costFunc, x0=initial_parameters, options=options, method=\"L-BFGS-B\", jac=True)\n",
    "theta = results[\"x\"]\n",
    "\n",
    "# Unfold the returned theta back into U and W\n",
    "X = np.reshape(theta[:num_movies*num_features], (num_movies, num_features), order='F')\n",
    "Theta = np.reshape(theta[num_movies*num_features:], (num_users, num_features), order='F')"
   ]
  },
  {
   "cell_type": "markdown",
   "metadata": {},
   "source": [
    "#### Part 7: Recommendation for you\n",
    "\n",
    "After training the model, you can now make recommendations by computing the predictions matrix."
   ]
  },
  {
   "cell_type": "code",
   "execution_count": 35,
   "metadata": {},
   "outputs": [],
   "source": [
    "p = np.dot(X, Theta.T)\n",
    "my_predictions = p[:,0] + Ymean.flatten()"
   ]
  },
  {
   "cell_type": "code",
   "execution_count": 105,
   "metadata": {},
   "outputs": [
    {
     "name": "stdout",
     "output_type": "stream",
     "text": [
      "\n",
      "\n",
      "Top recommendations for you:\n",
      "\n",
      "Predicting rating 8.95425 for movie 313 Titanic (1997)\n",
      "Predicting rating 8.88282 for movie 64 Shawshank Redemption, The (1994)\n",
      "Predicting rating 8.73734 for movie 272 Good Will Hunting (1997)\n",
      "Predicting rating 8.72771 for movie 318 Schindler's List (1993)\n",
      "Predicting rating 8.63722 for movie 127 Godfather, The (1972)\n",
      "Predicting rating 8.61210 for movie 12 Usual Suspects, The (1995)\n",
      "Predicting rating 8.57416 for movie 50 Star Wars (1977)\n",
      "Predicting rating 8.45038 for movie 98 Silence of the Lambs, The (1991)\n",
      "Predicting rating 8.44930 for movie 302 L.A. Confidential (1997)\n",
      "Predicting rating 8.39593 for movie 22 Braveheart (1995)\n",
      "\n",
      "\n",
      "Original ratings provided:\n",
      "Rated 4 for 1 Toy Story (1995)\n",
      "Rated 3 for 7 Twelve Monkeys (1995)\n",
      "Rated 5 for 12 Usual Suspects, The (1995)\n",
      "Rated 4 for 54 Outbreak (1995)\n",
      "Rated 5 for 64 Shawshank Redemption, The (1994)\n",
      "Rated 3 for 66 While You Were Sleeping (1995)\n",
      "Rated 5 for 69 Forrest Gump (1994)\n",
      "Rated 2 for 99 Snow White and the Seven Dwarfs (1937)\n",
      "Rated 4 for 183 Alien (1979)\n",
      "Rated 5 for 226 Die Hard 2 (1990)\n",
      "Rated 5 for 340 Boogie Nights (1997)\n"
     ]
    }
   ],
   "source": [
    "ix = my_predictions.argsort()[::-1]\n",
    "\n",
    "print('\\n\\nTop recommendations for you:\\n')\n",
    "for i in range(10):\n",
    "    j = ix[i]\n",
    "    print('Predicting rating {:.5f} for movie {:s}'.format(my_predictions[j], movieList[j]))\n",
    "\n",
    "print('\\n\\nOriginal ratings provided:')\n",
    "for i in range(len(my_ratings)):\n",
    "    if my_ratings[i] > 0:\n",
    "        print('Rated {:d} for {:s}'.format(int(my_ratings[i]), movieList[i]))"
   ]
  }
 ],
 "metadata": {
  "kernelspec": {
   "display_name": "Python 3",
   "language": "python",
   "name": "python3"
  },
  "language_info": {
   "codemirror_mode": {
    "name": "ipython",
    "version": 3
   },
   "file_extension": ".py",
   "mimetype": "text/x-python",
   "name": "python",
   "nbconvert_exporter": "python",
   "pygments_lexer": "ipython3",
   "version": "3.6.5"
  }
 },
 "nbformat": 4,
 "nbformat_minor": 2
}
