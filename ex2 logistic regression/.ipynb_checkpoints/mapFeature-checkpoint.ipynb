{
 "cells": [
  {
   "cell_type": "code",
   "execution_count": null,
   "metadata": {
    "collapsed": true
   },
   "outputs": [],
   "source": [
    "def mapFeature(X1, X2):\n",
    "# MAPFEATURE Feature mapping function to polynomial features\n",
    "#\n",
    "#   MAPFEATURE(X1, X2) maps the two input features\n",
    "#   to quadratic features used in the regularization exercise.\n",
    "#\n",
    "#   Returns a new feature array with more features, comprising of \n",
    "#   X1, X2, X1.^2, X2.^2, X1*X2, X1*X2.^2, etc..\n",
    "#   for a total of 1 + 2 + ... + (degree+1) = ((degree+1) * (degree+2)) / 2 columns\n",
    "#\n",
    "#   Inputs X1, X2 must be the same size\n",
    "#\n",
    "\n",
    "    import numpy as np\n",
    "\n",
    "    degree = 6\n",
    "    out = np.ones(( X1.shape[0], sum(range(degree + 2)) )) # could also use ((degree+1) * (degree+2)) / 2 instead of sum\n",
    "    curr_column = 1\n",
    "    for i in range(1, degree + 1):\n",
    "        for j in range(i+1):\n",
    "            out[:,curr_column] = np.power(X1,i-j) * np.power(X2,j)\n",
    "            curr_column += 1\n",
    "\n",
    "    return out"
   ]
  }
 ],
 "metadata": {
  "kernelspec": {
   "display_name": "Python 3",
   "language": "python",
   "name": "python3"
  },
  "language_info": {
   "codemirror_mode": {
    "name": "ipython",
    "version": 3
   },
   "file_extension": ".py",
   "mimetype": "text/x-python",
   "name": "python",
   "nbconvert_exporter": "python",
   "pygments_lexer": "ipython3",
   "version": "3.6.0"
  }
 },
 "nbformat": 4,
 "nbformat_minor": 2
}
