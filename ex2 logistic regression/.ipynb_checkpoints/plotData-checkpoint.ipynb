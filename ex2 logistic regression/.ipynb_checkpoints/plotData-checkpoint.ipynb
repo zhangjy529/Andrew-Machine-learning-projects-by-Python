{
 "cells": [
  {
   "cell_type": "code",
   "execution_count": null,
   "metadata": {
    "collapsed": true
   },
   "outputs": [],
   "source": [
    "def plotData(X, y):\n",
    "#PLOTDATA Plots the data points X and y into a new figure \n",
    "#   PLOTDATA(x,y) plots the data points with + for the positive examples\n",
    "#   and o for the negative examples. X is assumed to be a Mx2 matrix.\n",
    "\n",
    "    import matplotlib.pyplot as plt\n",
    "    import numpy as np\n",
    "\n",
    "# ====================== YOUR CODE HERE ======================\n",
    "# Instructions: Plot the positive and negative examples on a\n",
    "#               2D plot, using the option 'k+' for the positive\n",
    "#               examples and 'ko' for the negative examples.\n",
    "#\n",
    "\n",
    "    # Find Indices of Positive and Negative Examples\n",
    "    pos = np.where(y==1)\n",
    "    neg = np.where(y==0)\n",
    "\n",
    "    # plot! [0] indexing at end necessary for proper legend creation in ex2.py\n",
    "    p1 = plt.plot(X[pos,0], X[pos,1], marker='+', markersize=9, color='k')[0]\n",
    "    p2 = plt.plot(X[neg,0], X[neg,1], marker='o', markersize=7, color='y')[0]\n",
    "\n",
    "\n",
    "    return plt, p1, p2"
   ]
  }
 ],
 "metadata": {
  "kernelspec": {
   "display_name": "Python 3",
   "language": "python",
   "name": "python3"
  },
  "language_info": {
   "codemirror_mode": {
    "name": "ipython",
    "version": 3
   },
   "file_extension": ".py",
   "mimetype": "text/x-python",
   "name": "python",
   "nbconvert_exporter": "python",
   "pygments_lexer": "ipython3",
   "version": "3.6.0"
  }
 },
 "nbformat": 4,
 "nbformat_minor": 2
}
